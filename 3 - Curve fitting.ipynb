{
 "cells": [
  {
   "cell_type": "markdown",
   "metadata": {},
   "source": [
    "## 3.1 - Polynomial fits"
   ]
  },
  {
   "cell_type": "code",
   "execution_count": null,
   "metadata": {
    "collapsed": true
   },
   "outputs": [],
   "source": [
    "#%matplotlib notebook\n",
    "%matplotlib inline\n",
    "import matplotlib.pyplot as plt\n",
    "import numpy as np"
   ]
  },
  {
   "cell_type": "code",
   "execution_count": null,
   "metadata": {
    "collapsed": true
   },
   "outputs": [],
   "source": [
    "x = np.array([0.0, 1.0, 2.0, 3.0,  4.0,  5.0])\n",
    "y = np.array([0.0, 0.8, 0.9, 0.1, -0.8, -1.0])\n",
    "plt.scatter(x,y)\n",
    "plt.show()"
   ]
  },
  {
   "cell_type": "code",
   "execution_count": null,
   "metadata": {
    "collapsed": true
   },
   "outputs": [],
   "source": [
    "z = np.polyfit(x, y, 3)\n",
    "print z"
   ]
  },
  {
   "cell_type": "code",
   "execution_count": null,
   "metadata": {
    "collapsed": true
   },
   "outputs": [],
   "source": [
    "z = np.polyfit(x, y, 3)\n",
    "p3 = np.poly1d(z)"
   ]
  },
  {
   "cell_type": "code",
   "execution_count": null,
   "metadata": {
    "collapsed": true
   },
   "outputs": [],
   "source": [
    "z = np.polyfit(x, y, 30)\n",
    "p30 = np.poly1d(z)"
   ]
  },
  {
   "cell_type": "code",
   "execution_count": null,
   "metadata": {
    "collapsed": true
   },
   "outputs": [],
   "source": [
    "xp = np.linspace(-0,5.5,100)\n",
    "plt.scatter(x,y)\n",
    "plt.plot(xp, p3(xp), color='green')\n",
    "plt.plot(xp, p30(xp), color='red', ls='--')\n",
    "plt.show()"
   ]
  },
  {
   "cell_type": "code",
   "execution_count": null,
   "metadata": {
    "collapsed": true
   },
   "outputs": [],
   "source": [
    "plt.scatter(x,y,label='Original data')\n",
    "plt.plot(xp, p3(xp), color='green',label='3rd degree')\n",
    "plt.plot(xp, p30(xp), color='red', ls='--', label='30th degree')\n",
    "plt.ylim([-2,2])\n",
    "plt.legend()\n",
    "plt.show()"
   ]
  },
  {
   "cell_type": "markdown",
   "metadata": {},
   "source": [
    "## 3.2 - Generic curve fitting"
   ]
  },
  {
   "cell_type": "markdown",
   "metadata": {},
   "source": [
    "$$\\Large{f(x) = a e^{-bx} + c}$$"
   ]
  },
  {
   "cell_type": "code",
   "execution_count": null,
   "metadata": {
    "collapsed": true
   },
   "outputs": [],
   "source": [
    "def f(x, a, b, c):\n",
    "    return a*np.exp(-b*x)+c"
   ]
  },
  {
   "cell_type": "code",
   "execution_count": null,
   "metadata": {
    "collapsed": true
   },
   "outputs": [],
   "source": [
    "from scipy.optimize import *"
   ]
  },
  {
   "cell_type": "code",
   "execution_count": null,
   "metadata": {
    "collapsed": true
   },
   "outputs": [],
   "source": [
    "x = np.linspace(0, 5, 50)\n",
    "a = 5.0\n",
    "b = 2.0\n",
    "c = 0.5\n",
    "arr = (a,b,c)"
   ]
  },
  {
   "cell_type": "code",
   "execution_count": null,
   "metadata": {
    "collapsed": true
   },
   "outputs": [],
   "source": [
    "plt.scatter(x, f(x, *arr))\n",
    "plt.show()"
   ]
  },
  {
   "cell_type": "code",
   "execution_count": null,
   "metadata": {
    "collapsed": true
   },
   "outputs": [],
   "source": [
    "#Add some random noise\n",
    "y_noise = f(x, *arr) + 0.3*np.random.normal(size=len(x))"
   ]
  },
  {
   "cell_type": "code",
   "execution_count": null,
   "metadata": {
    "collapsed": true
   },
   "outputs": [],
   "source": [
    "plt.scatter(x, y_noise)\n",
    "plt.show()"
   ]
  },
  {
   "cell_type": "markdown",
   "metadata": {},
   "source": [
    "Use non-linear least squares to fit a function, f, to data."
   ]
  },
  {
   "cell_type": "code",
   "execution_count": null,
   "metadata": {
    "collapsed": true
   },
   "outputs": [],
   "source": [
    "guess = [3.0, 1.0, 1.0]\n",
    "popt, pcov = curve_fit(f, x, y_noise, p0=guess)\n",
    "#The optimised parameters of the fit\n",
    "print \"popt:\", popt\n",
    "#One standard deviation errors on the parameters.\n",
    "perr = np.sqrt(np.diag(pcov))\n",
    "print \"perr:\", perr\n",
    "#The covariance matrix of the parameters\n",
    "print \"pcov:\", pcov"
   ]
  },
  {
   "cell_type": "code",
   "execution_count": null,
   "metadata": {
    "collapsed": true
   },
   "outputs": [],
   "source": [
    "#Calculate R squared\n",
    "residuals = y_noise - f(x, *popt)\n",
    "plt.plot(x, residuals)\n",
    "plt.show()"
   ]
  },
  {
   "cell_type": "code",
   "execution_count": null,
   "metadata": {
    "collapsed": true
   },
   "outputs": [],
   "source": [
    "#Sum of the residuals squared\n",
    "ss_res = np.sum(residuals**2)\n",
    "#Total sum of squares\n",
    "ss_tot = np.sum((y_noise-np.mean(y_noise))**2)\n",
    "#R-Squared\n",
    "Rsq = 1.0 - ss_res/ss_tot"
   ]
  },
  {
   "cell_type": "code",
   "execution_count": null,
   "metadata": {
    "collapsed": true
   },
   "outputs": [],
   "source": [
    "plt.scatter(x, y_noise)\n",
    "strlabel = r'$R^2 = %0.3f$' % Rsq\n",
    "plt.plot(x, f(x, *popt), color='red', label=strlabel)\n",
    "plt.legend()\n",
    "plt.show()"
   ]
  },
  {
   "cell_type": "markdown",
   "metadata": {},
   "source": [
    "Sometimes you need to get constraints to test your physics model... and you need to be careful doing so!"
   ]
  },
  {
   "cell_type": "code",
   "execution_count": null,
   "metadata": {
    "collapsed": true
   },
   "outputs": [],
   "source": [
    "popt2, pcov2 = curve_fit(f, x, y_noise, p0=guess, bounds=([1.0, 0.0, 0.0], [3., 1., 2.]))\n",
    "#The optimised parameters of the fit\n",
    "print \"popt2:\", popt2\n",
    "#One standard deviation errors on the parameters.\n",
    "perr2 = np.sqrt(np.diag(pcov2))\n",
    "print \"perr2:\", perr\n",
    "#The covar2iance matrix of the parameters\n",
    "print \"pcov2:\", pcov2"
   ]
  },
  {
   "cell_type": "code",
   "execution_count": null,
   "metadata": {
    "collapsed": true
   },
   "outputs": [],
   "source": [
    "plt.scatter(x, y_noise, label='Orginal')\n",
    "plt.plot(x, f(x, *popt), color='red', label='Unconstrained')\n",
    "plt.plot(x, f(x, *popt2), color='green', label='Constrained')\n",
    "plt.legend()\n",
    "plt.show()"
   ]
  },
  {
   "cell_type": "markdown",
   "metadata": {},
   "source": [
    "## 3.3 - Gaussian fit"
   ]
  },
  {
   "cell_type": "code",
   "execution_count": 13,
   "metadata": {
    "collapsed": true
   },
   "outputs": [],
   "source": [
    "import numpy as np\n",
    "import matplotlib.pyplot as plt\n",
    "from scipy.optimize import *"
   ]
  },
  {
   "cell_type": "code",
   "execution_count": 14,
   "metadata": {
    "collapsed": true
   },
   "outputs": [],
   "source": [
    "# Let's create the Gaussian function\n",
    "def gauss(x, a, x0, sigma):\n",
    "    return a*np.exp(-(x-x0)**2/(2*sigma**2))"
   ]
  },
  {
   "cell_type": "code",
   "execution_count": 15,
   "metadata": {
    "collapsed": true
   },
   "outputs": [],
   "source": [
    "#Lets get unperturbed data\n",
    "# Generating clean data\n",
    "x = np.linspace(-5, 15, 200)\n",
    "y = gauss(x, 1, 5, 2)"
   ]
  },
  {
   "cell_type": "code",
   "execution_count": 16,
   "metadata": {},
   "outputs": [
    {
     "data": {
      "image/png": "[encoded data removed]",
      "text/plain": [
       "<matplotlib.figure.Figure at 0x7fa63a875e50>"
      ]
     },
     "metadata": {},
     "output_type": "display_data"
    }
   ],
   "source": [
    "plt.plot(x,y)\n",
    "plt.show()"
   ]
  },
  {
   "cell_type": "code",
   "execution_count": 17,
   "metadata": {
    "collapsed": true
   },
   "outputs": [],
   "source": [
    "yn = y + 0.1 * np.random.normal(size=len(x))"
   ]
  },
  {
   "cell_type": "code",
   "execution_count": 18,
   "metadata": {},
   "outputs": [
    {
     "data": {
      "image/png": "[encoded data removed]",
      "text/plain": [
       "<matplotlib.figure.Figure at 0x7fa640590650>"
      ]
     },
     "metadata": {},
     "output_type": "display_data"
    }
   ],
   "source": [
    "plt.plot(x,y)\n",
    "plt.plot(x,yn)\n",
    "plt.show()"
   ]
  },
  {
   "cell_type": "code",
   "execution_count": 26,
   "metadata": {},
   "outputs": [
    {
     "name": "stdout",
     "output_type": "stream",
     "text": [
      "[ 1.00882715  5.0269462   1.96117371]\n"
     ]
    }
   ],
   "source": [
    "popt, pcov = curve_fit(gauss, x, yn, p0=[5.0, 5.0, 1.0])\n",
    "#The optimised parameters of the fit\n",
    "print(popt)\n",
    "#One standard deviation errors on the parameters.\n",
    "#perr = np.sqrt(np.diag(pcov))\n",
    "#print \"perr:\", perr\n",
    "#The covariance matrix of the parameters\n",
    "#print \"pcov:\", pcov"
   ]
  },
  {
   "cell_type": "code",
   "execution_count": 27,
   "metadata": {},
   "outputs": [
    {
     "data": {
      "image/png": "[encoded data removed]",
      "text/plain": [
       "<matplotlib.figure.Figure at 0x7fa639f9cf50>"
      ]
     },
     "metadata": {},
     "output_type": "display_data"
    }
   ],
   "source": [
    "plt.plot(x, y, label='Original')\n",
    "plt.scatter(x, yn, label='Noise',s=10)\n",
    "plt.plot(x, gauss(x, *popt), label='Fit')\n",
    "plt.show()"
   ]
  },
  {
   "cell_type": "code",
   "execution_count": null,
   "metadata": {
    "collapsed": true
   },
   "outputs": [],
   "source": []
  },
  {
   "cell_type": "markdown",
   "metadata": {},
   "source": [
    "## 3.4 - Extra - Voigt fit"
   ]
  },
  {
   "cell_type": "markdown",
   "metadata": {},
   "source": [
    "For the Spectroscopy collegues:\n",
    "```bash\n",
    "pip install lmfit\n",
    "```"
   ]
  },
  {
   "cell_type": "code",
   "execution_count": 28,
   "metadata": {
    "collapsed": true
   },
   "outputs": [],
   "source": [
    "import numpy as np\n",
    "import matplotlib.pyplot as plt\n",
    "s = np.loadtxt('./Files/line.txt')\n",
    "l = np.arange(len(s))"
   ]
  },
  {
   "cell_type": "code",
   "execution_count": 29,
   "metadata": {},
   "outputs": [
    {
     "data": {
      "image/png": "[encoded data removed]",
      "text/plain": [
       "<matplotlib.figure.Figure at 0x7fa639e8cf10>"
      ]
     },
     "metadata": {},
     "output_type": "display_data"
    }
   ],
   "source": [
    "plt.plot(l, s, marker='o', ls='', color='r')\n",
    "plt.show()"
   ]
  },
  {
   "cell_type": "code",
   "execution_count": 30,
   "metadata": {
    "collapsed": true
   },
   "outputs": [],
   "source": [
    "from lmfit.models import PseudoVoigtModel"
   ]
  },
  {
   "cell_type": "code",
   "execution_count": 31,
   "metadata": {},
   "outputs": [
    {
     "name": "stdout",
     "output_type": "stream",
     "text": [
      "[[Model]]\n",
      "    Model(pvoigt)\n",
      "[[Fit Statistics]]\n",
      "    # function evals   = 76\n",
      "    # data points      = 160\n",
      "    # variables        = 4\n",
      "    chi-square         = 10762.373\n",
      "    reduced chi-square = 68.990\n",
      "    Akaike info crit   = 681.382\n",
      "    Bayesian info crit = 693.683\n",
      "[[Variables]]\n",
      "    amplitude:   4405.17037 +/- 83.84218 (1.90%) (init= 4110.24)\n",
      "    sigma:       5.63702545 +/- 0.236113 (4.19%) (init= 5)\n",
      "    center:      79.5249310 +/- 0.103165 (0.13%) (init= 79)\n",
      "    fraction:    1.21228736 +/- 0.052351 (4.32%) (init= 0.5)\n",
      "    fwhm:        11.2740509 +/- 0.472227 (4.19%)  == '2.0000000*sigma'\n",
      "[[Correlations]] (unreported correlations are <  0.250)\n",
      "    C(sigma, fraction)           = -0.774 \n",
      "    C(amplitude, fraction)       =  0.314 \n",
      "\n"
     ]
    },
    {
     "data": {
      "text/plain": [
       "(<matplotlib.figure.Figure at 0x7fa630fb7f50>,\n",
       " <matplotlib.gridspec.GridSpec at 0x7fa630fd9210>)"
      ]
     },
     "execution_count": 31,
     "metadata": {},
     "output_type": "execute_result"
    },
    {
     "data": {
      "image/png": "[encoded data removed]",
      "text/plain": [
       "<matplotlib.figure.Figure at 0x7fa630fb7f50>"
      ]
     },
     "metadata": {},
     "output_type": "display_data"
    }
   ],
   "source": [
    "%matplotlib inline\n",
    "mod = PseudoVoigtModel()\n",
    "pars = mod.guess(s, x=l)\n",
    "out = mod.fit(s, pars, x=l)\n",
    "print(out.fit_report(min_correl=0.25))\n",
    "out.plot()"
   ]
  },
  {
   "cell_type": "code",
   "execution_count": null,
   "metadata": {
    "collapsed": true
   },
   "outputs": [],
   "source": []
  },
  {
   "cell_type": "code",
   "execution_count": null,
   "metadata": {
    "collapsed": true
   },
   "outputs": [],
   "source": []
  }
 ],
 "metadata": {
  "kernelspec": {
   "display_name": "Python 2",
   "language": "python",
   "name": "python2"
  },
  "language_info": {
   "codemirror_mode": {
    "name": "ipython",
    "version": 2
   },
   "file_extension": ".py",
   "mimetype": "text/x-python",
   "name": "python",
   "nbconvert_exporter": "python",
   "pygments_lexer": "ipython2",
   "version": "2.7.13"
  }
 },
 "nbformat": 4,
 "nbformat_minor": 2
}
