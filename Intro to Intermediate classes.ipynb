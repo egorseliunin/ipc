{
 "cells": [
  {
   "cell_type": "markdown",
   "metadata": {
    "slideshow": {
     "slide_type": "slide"
    }
   },
   "source": [
    "# Intermediate python classes\n",
    "\n",
    "### L. Guimarais, D. Aguiam"
   ]
  },
  {
   "cell_type": "markdown",
   "metadata": {
    "slideshow": {
     "slide_type": "slide"
    }
   },
   "source": [
    "## Motivation"
   ]
  },
  {
   "cell_type": "code",
   "execution_count": 1,
   "metadata": {
    "slideshow": {
     "slide_type": "fragment"
    }
   },
   "outputs": [
    {
     "data": {
      "text/html": [
       "<iframe src=http://www.bestprogramminglanguagefor.me/why-learn-python width=800 height=450></iframe>"
      ],
      "text/plain": [
       "<IPython.core.display.HTML object>"
      ]
     },
     "execution_count": 1,
     "metadata": {},
     "output_type": "execute_result"
    }
   ],
   "source": [
    "import IPython\n",
    "url = 'http://www.bestprogramminglanguagefor.me/why-learn-python'\n",
    "iframe = '<iframe src=' + url + ' width=800 height=450></iframe>'\n",
    "IPython.display.HTML(iframe)"
   ]
  },
  {
   "cell_type": "markdown",
   "metadata": {
    "slideshow": {
     "slide_type": "slide"
    }
   },
   "source": [
    "## Class structure\n",
    "\n",
    "1. [The Jupyter notebook and plotting styles](1%20-%20The%20Jupyter%20Notebook%20and%20plotting%20styles.ipynb)\n",
    "2. [Differentiation and Integration](2%20-%20Differentiation%20and%20Integration.ipynb)\n",
    "3. [Interpolation](3%20-%20Interpolation.ipynb)\n",
    "4. [Curve fitting](4%20-%20Curve%20fitting.ipynb)\n",
    "5. [Data sets with pandas](5%20-%20Data%20sets%20with%20pandas.ipynb)\n",
    "6. Extra (if time allows)\n",
    "\n",
    "    A. [Signal Processing](Appendix%20A%20-%20Signal%20Processing.ipynb)    \n",
    "    B. [Data analysis project 1](Project/Project%201.ipynb)"
   ]
  },
  {
   "cell_type": "markdown",
   "metadata": {
    "collapsed": true,
    "slideshow": {
     "slide_type": "slide"
    }
   },
   "source": [
    "## Get the class notebooks here:\n",
    "\n",
    "[https://github.com/zarpedes/ipc](https://github.com/zarpedes/ipc)\n",
    "\n",
    "Download zip (easier) or clone repository (if you know git)."
   ]
  },
  {
   "cell_type": "code",
   "execution_count": null,
   "metadata": {
    "collapsed": true
   },
   "outputs": [],
   "source": []
  }
 ],
 "metadata": {
  "celltoolbar": "Slideshow",
  "kernelspec": {
   "display_name": "Python 2",
   "language": "python",
   "name": "python2"
  },
  "language_info": {
   "codemirror_mode": {
    "name": "ipython",
    "version": 2
   },
   "file_extension": ".py",
   "mimetype": "text/x-python",
   "name": "python",
   "nbconvert_exporter": "python",
   "pygments_lexer": "ipython2",
   "version": "2.7.13"
  }
 },
 "nbformat": 4,
 "nbformat_minor": 2
}
