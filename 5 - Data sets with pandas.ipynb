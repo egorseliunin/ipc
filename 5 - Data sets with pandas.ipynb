{
 "cells": [
  {
   "cell_type": "markdown",
   "metadata": {},
   "source": [
    "# Data sets\n",
    "\n",
    "There is a lot of Documentation on this subject. Here we will breifly introduce Series and Dataframes to help research with DataBases"
   ]
  },
  {
   "cell_type": "code",
   "execution_count": 2,
   "metadata": {
    "collapsed": true
   },
   "outputs": [],
   "source": [
    "%matplotlib inline\n",
    "import pandas as pd\n",
    "import numpy as np\n",
    "import matplotlib.pyplot as plt"
   ]
  },
  {
   "cell_type": "markdown",
   "metadata": {},
   "source": [
    "# Series\n",
    "\n",
    "Series is a one-dimensional labeled array capable of holding any data type (integers, strings, floating point numbers, Python objects, etc.). The axis labels are collectively referred to as the index. The basic method to create a Series is to call:"
   ]
  },
  {
   "cell_type": "code",
   "execution_count": 3,
   "metadata": {},
   "outputs": [
    {
     "name": "stdout",
     "output_type": "stream",
     "text": [
      "a   -0.532377\n",
      "b    0.191211\n",
      "c    0.181809\n",
      "d   -0.184023\n",
      "e   -0.685725\n",
      "dtype: float64\n"
     ]
    }
   ],
   "source": [
    "s = pd.Series(np.random.randn(5), index=['a', 'b', 'c', 'd', 'e'])\n",
    "print s"
   ]
  },
  {
   "cell_type": "code",
   "execution_count": 4,
   "metadata": {},
   "outputs": [
    {
     "data": {
      "text/plain": [
       "-0.5323774067827074"
      ]
     },
     "execution_count": 4,
     "metadata": {},
     "output_type": "execute_result"
    }
   ],
   "source": [
    "s['a']"
   ]
  },
  {
   "cell_type": "code",
   "execution_count": 5,
   "metadata": {},
   "outputs": [
    {
     "data": {
      "text/plain": [
       "-0.5323774067827074"
      ]
     },
     "execution_count": 5,
     "metadata": {},
     "output_type": "execute_result"
    }
   ],
   "source": [
    "s[0]"
   ]
  },
  {
   "cell_type": "code",
   "execution_count": 6,
   "metadata": {},
   "outputs": [
    {
     "data": {
      "text/plain": [
       "0.54542799749680948"
      ]
     },
     "execution_count": 6,
     "metadata": {},
     "output_type": "execute_result"
    }
   ],
   "source": [
    "s['c']*3.0"
   ]
  },
  {
   "cell_type": "code",
   "execution_count": 7,
   "metadata": {},
   "outputs": [
    {
     "data": {
      "text/plain": [
       "a    0.587207\n",
       "b    1.210715\n",
       "c    1.199385\n",
       "d    0.831917\n",
       "e    0.503725\n",
       "dtype: float64"
      ]
     },
     "execution_count": 7,
     "metadata": {},
     "output_type": "execute_result"
    }
   ],
   "source": [
    "np.exp(s)"
   ]
  },
  {
   "cell_type": "code",
   "execution_count": 8,
   "metadata": {},
   "outputs": [
    {
     "data": {
      "text/plain": [
       "<matplotlib.axes._subplots.AxesSubplot at 0x7f3ac648ecd0>"
      ]
     },
     "execution_count": 8,
     "metadata": {},
     "output_type": "execute_result"
    },
    {
     "data": {
      "image/png": "[encoded data removed]",
      "text/plain": [
       "<matplotlib.figure.Figure at 0x7f3ac648e4d0>"
      ]
     },
     "metadata": {},
     "output_type": "display_data"
    }
   ],
   "source": [
    "s.plot()"
   ]
  },
  {
   "cell_type": "code",
   "execution_count": 10,
   "metadata": {},
   "outputs": [
    {
     "name": "stdout",
     "output_type": "stream",
     "text": [
      "Liga      25\n",
      "Cup        1\n",
      "Europe    12\n",
      "Other      4\n",
      "Name: Ronaldo, dtype: int64\n"
     ]
    }
   ],
   "source": [
    "pl1 = pd.Series(np.array([25, 1, 12, 4]), index=['Liga', 'Cup', 'Europe', 'Other'], name='Ronaldo')\n",
    "print pl1"
   ]
  },
  {
   "cell_type": "code",
   "execution_count": 11,
   "metadata": {},
   "outputs": [
    {
     "data": {
      "text/plain": [
       "42L"
      ]
     },
     "execution_count": 11,
     "metadata": {},
     "output_type": "execute_result"
    }
   ],
   "source": [
    "np.sum(pl1)"
   ]
  },
  {
   "cell_type": "code",
   "execution_count": 12,
   "metadata": {},
   "outputs": [
    {
     "name": "stdout",
     "output_type": "stream",
     "text": [
      "Liga      37\n",
      "Cup        5\n",
      "Europe    11\n",
      "Other      1\n",
      "Name: Messi, dtype: int64\n"
     ]
    }
   ],
   "source": [
    "pl2 = pd.Series(np.array([37, 5, 11, 1]), index=['Liga', 'Cup', 'Europe', 'Other'], name=\"Messi\")\n",
    "print pl2"
   ]
  },
  {
   "cell_type": "code",
   "execution_count": 13,
   "metadata": {},
   "outputs": [
    {
     "data": {
      "text/plain": [
       "54L"
      ]
     },
     "execution_count": 13,
     "metadata": {},
     "output_type": "execute_result"
    }
   ],
   "source": [
    "np.sum(pl2)"
   ]
  },
  {
   "cell_type": "code",
   "execution_count": 15,
   "metadata": {},
   "outputs": [
    {
     "data": {
      "text/plain": [
       "Liga      62\n",
       "Cup        6\n",
       "Europe    23\n",
       "Other      5\n",
       "dtype: int64"
      ]
     },
     "execution_count": 15,
     "metadata": {},
     "output_type": "execute_result"
    }
   ],
   "source": [
    "pl1 + pl2"
   ]
  },
  {
   "cell_type": "code",
   "execution_count": 16,
   "metadata": {},
   "outputs": [
    {
     "data": {
      "text/plain": [
       "62"
      ]
     },
     "execution_count": 16,
     "metadata": {},
     "output_type": "execute_result"
    }
   ],
   "source": [
    "pl1['Liga'] + pl2['Liga']"
   ]
  },
  {
   "cell_type": "code",
   "execution_count": 18,
   "metadata": {},
   "outputs": [
    {
     "name": "stdout",
     "output_type": "stream",
     "text": [
      " Total goals scored: 96\n",
      "Total goals scored: 96\n"
     ]
    }
   ],
   "source": [
    "print \"Total goals scored:\", np.sum(pl1 + pl2)\n",
    "print \"Total goals scored:\", np.sum(pl1) + np.sum(pl2)"
   ]
  },
  {
   "cell_type": "code",
   "execution_count": 19,
   "metadata": {},
   "outputs": [
    {
     "data": {
      "text/plain": [
       "10.5"
      ]
     },
     "execution_count": 19,
     "metadata": {},
     "output_type": "execute_result"
    }
   ],
   "source": [
    "pl1.mean()"
   ]
  },
  {
   "cell_type": "code",
   "execution_count": 20,
   "metadata": {},
   "outputs": [
    {
     "data": {
      "text/plain": [
       "<matplotlib.legend.Legend at 0x7f3ac3a8a190>"
      ]
     },
     "execution_count": 20,
     "metadata": {},
     "output_type": "execute_result"
    },
    {
     "data": {
      "image/png": "[encoded data removed]",
      "text/plain": [
       "<matplotlib.figure.Figure at 0x7f3af45e6250>"
      ]
     },
     "metadata": {},
     "output_type": "display_data"
    }
   ],
   "source": [
    "pl1.plot()\n",
    "pl2.plot()\n",
    "plt.legend()"
   ]
  },
  {
   "cell_type": "markdown",
   "metadata": {},
   "source": [
    "# Dataframes\n",
    "\n",
    "A DataFrame is a 2-dimensional labeled data structure with columns of potentially different types. You can think of it like a spreadsheet or SQL table, or a dict of Series objects. It is generally the most commonly used pandas object. Like Series, DataFrame accepts many different kinds of input:"
   ]
  },
  {
   "cell_type": "code",
   "execution_count": 21,
   "metadata": {},
   "outputs": [
    {
     "data": {
      "text/plain": [
       "True"
      ]
     },
     "execution_count": 21,
     "metadata": {},
     "output_type": "execute_result"
    }
   ],
   "source": [
    "import webbrowser\n",
    "url = 'https://en.wikipedia.org/wiki/2016%E2%80%9317_Primeira_Liga#Attendances'\n",
    "webbrowser.open(url)"
   ]
  },
  {
   "cell_type": "code",
   "execution_count": 24,
   "metadata": {},
   "outputs": [
    {
     "data": {
      "text/html": [
       "<div>\n",
       "<style>\n",
       "    .dataframe thead tr:only-child th {\n",
       "        text-align: right;\n",
       "    }\n",
       "\n",
       "    .dataframe thead th {\n",
       "        text-align: left;\n",
       "    }\n",
       "\n",
       "    .dataframe tbody tr th {\n",
       "        vertical-align: top;\n",
       "    }\n",
       "</style>\n",
       "<table border=\"1\" class=\"dataframe\">\n",
       "  <thead>\n",
       "    <tr style=\"text-align: right;\">\n",
       "      <th></th>\n",
       "      <th>Pos</th>\n",
       "      <th>Team</th>\n",
       "      <th>Total</th>\n",
       "      <th>High</th>\n",
       "      <th>Low</th>\n",
       "      <th>Average</th>\n",
       "      <th>Change</th>\n",
       "    </tr>\n",
       "  </thead>\n",
       "  <tbody>\n",
       "    <tr>\n",
       "      <th>0</th>\n",
       "      <td>1</td>\n",
       "      <td>Benfica</td>\n",
       "      <td>951184</td>\n",
       "      <td>64591</td>\n",
       "      <td>46256</td>\n",
       "      <td>55952</td>\n",
       "      <td>+11.1%</td>\n",
       "    </tr>\n",
       "    <tr>\n",
       "      <th>1</th>\n",
       "      <td>2</td>\n",
       "      <td>Sporting CP</td>\n",
       "      <td>727121</td>\n",
       "      <td>49399</td>\n",
       "      <td>32457</td>\n",
       "      <td>42772</td>\n",
       "      <td>+6.9%</td>\n",
       "    </tr>\n",
       "    <tr>\n",
       "      <th>2</th>\n",
       "      <td>3</td>\n",
       "      <td>Porto</td>\n",
       "      <td>631202</td>\n",
       "      <td>50019</td>\n",
       "      <td>22208</td>\n",
       "      <td>37130</td>\n",
       "      <td>+14.8%</td>\n",
       "    </tr>\n",
       "    <tr>\n",
       "      <th>3</th>\n",
       "      <td>4</td>\n",
       "      <td>Vitória de Guimarães</td>\n",
       "      <td>318856</td>\n",
       "      <td>26985</td>\n",
       "      <td>12953</td>\n",
       "      <td>18756</td>\n",
       "      <td>+50.9%</td>\n",
       "    </tr>\n",
       "    <tr>\n",
       "      <th>4</th>\n",
       "      <td>5</td>\n",
       "      <td>Braga</td>\n",
       "      <td>195366</td>\n",
       "      <td>24836</td>\n",
       "      <td>5545</td>\n",
       "      <td>11492</td>\n",
       "      <td>+2.9%</td>\n",
       "    </tr>\n",
       "    <tr>\n",
       "      <th>5</th>\n",
       "      <td>6</td>\n",
       "      <td>Marítimo</td>\n",
       "      <td>132909</td>\n",
       "      <td>10454</td>\n",
       "      <td>4150</td>\n",
       "      <td>7818</td>\n",
       "      <td>+27.2%</td>\n",
       "    </tr>\n",
       "    <tr>\n",
       "      <th>6</th>\n",
       "      <td>7</td>\n",
       "      <td>Boavista</td>\n",
       "      <td>103461</td>\n",
       "      <td>16157</td>\n",
       "      <td>3955</td>\n",
       "      <td>6086</td>\n",
       "      <td>+5.9%</td>\n",
       "    </tr>\n",
       "    <tr>\n",
       "      <th>7</th>\n",
       "      <td>8</td>\n",
       "      <td>Belenenses</td>\n",
       "      <td>68799</td>\n",
       "      <td>12236</td>\n",
       "      <td>1309</td>\n",
       "      <td>4047</td>\n",
       "      <td>−9.2%</td>\n",
       "    </tr>\n",
       "    <tr>\n",
       "      <th>8</th>\n",
       "      <td>9</td>\n",
       "      <td>Rio Ave</td>\n",
       "      <td>67215</td>\n",
       "      <td>8767</td>\n",
       "      <td>1508</td>\n",
       "      <td>3954</td>\n",
       "      <td>+19.7%</td>\n",
       "    </tr>\n",
       "    <tr>\n",
       "      <th>9</th>\n",
       "      <td>10</td>\n",
       "      <td>Chaves</td>\n",
       "      <td>65320</td>\n",
       "      <td>10109</td>\n",
       "      <td>2081</td>\n",
       "      <td>3842</td>\n",
       "      <td>−13.3%</td>\n",
       "    </tr>\n",
       "    <tr>\n",
       "      <th>10</th>\n",
       "      <td>11</td>\n",
       "      <td>Paços de Ferreira</td>\n",
       "      <td>61551</td>\n",
       "      <td>8000</td>\n",
       "      <td>1730</td>\n",
       "      <td>3496</td>\n",
       "      <td>+33.3%[1]</td>\n",
       "    </tr>\n",
       "    <tr>\n",
       "      <th>11</th>\n",
       "      <td>12</td>\n",
       "      <td>Vitória de Setúbal</td>\n",
       "      <td>58051</td>\n",
       "      <td>9076</td>\n",
       "      <td>1059</td>\n",
       "      <td>3415</td>\n",
       "      <td>+21.9%</td>\n",
       "    </tr>\n",
       "    <tr>\n",
       "      <th>12</th>\n",
       "      <td>13</td>\n",
       "      <td>Feirense</td>\n",
       "      <td>50517</td>\n",
       "      <td>5449</td>\n",
       "      <td>1099</td>\n",
       "      <td>2972</td>\n",
       "      <td>+183.5%[1]</td>\n",
       "    </tr>\n",
       "    <tr>\n",
       "      <th>13</th>\n",
       "      <td>14</td>\n",
       "      <td>Nacional</td>\n",
       "      <td>46500</td>\n",
       "      <td>5017</td>\n",
       "      <td>1126</td>\n",
       "      <td>2735</td>\n",
       "      <td>+9.8%</td>\n",
       "    </tr>\n",
       "    <tr>\n",
       "      <th>14</th>\n",
       "      <td>15</td>\n",
       "      <td>Estoril</td>\n",
       "      <td>39239</td>\n",
       "      <td>4987</td>\n",
       "      <td>1045</td>\n",
       "      <td>2308</td>\n",
       "      <td>−30.5%</td>\n",
       "    </tr>\n",
       "    <tr>\n",
       "      <th>15</th>\n",
       "      <td>16</td>\n",
       "      <td>Tondela</td>\n",
       "      <td>38668</td>\n",
       "      <td>7429</td>\n",
       "      <td>877</td>\n",
       "      <td>2275</td>\n",
       "      <td>−22.6%</td>\n",
       "    </tr>\n",
       "    <tr>\n",
       "      <th>16</th>\n",
       "      <td>17</td>\n",
       "      <td>Arouca</td>\n",
       "      <td>37383</td>\n",
       "      <td>5603</td>\n",
       "      <td>640</td>\n",
       "      <td>2199</td>\n",
       "      <td>−2.0%</td>\n",
       "    </tr>\n",
       "    <tr>\n",
       "      <th>17</th>\n",
       "      <td>18</td>\n",
       "      <td>Moreirense</td>\n",
       "      <td>29030</td>\n",
       "      <td>5351</td>\n",
       "      <td>658</td>\n",
       "      <td>1708</td>\n",
       "      <td>−40.7%</td>\n",
       "    </tr>\n",
       "  </tbody>\n",
       "</table>\n",
       "</div>"
      ],
      "text/plain": [
       "    Pos                  Team   Total   High    Low  Average      Change\n",
       "0     1               Benfica  951184  64591  46256    55952      +11.1%\n",
       "1     2           Sporting CP  727121  49399  32457    42772       +6.9%\n",
       "2     3                 Porto  631202  50019  22208    37130      +14.8%\n",
       "3     4  Vitória de Guimarães  318856  26985  12953    18756      +50.9%\n",
       "4     5                 Braga  195366  24836   5545    11492       +2.9%\n",
       "5     6              Marítimo  132909  10454   4150     7818      +27.2%\n",
       "6     7              Boavista  103461  16157   3955     6086       +5.9%\n",
       "7     8            Belenenses   68799  12236   1309     4047       −9.2%\n",
       "8     9               Rio Ave   67215   8767   1508     3954      +19.7%\n",
       "9    10                Chaves   65320  10109   2081     3842      −13.3%\n",
       "10   11     Paços de Ferreira   61551   8000   1730     3496   +33.3%[1]\n",
       "11   12    Vitória de Setúbal   58051   9076   1059     3415      +21.9%\n",
       "12   13              Feirense   50517   5449   1099     2972  +183.5%[1]\n",
       "13   14              Nacional   46500   5017   1126     2735       +9.8%\n",
       "14   15               Estoril   39239   4987   1045     2308      −30.5%\n",
       "15   16               Tondela   38668   7429    877     2275      −22.6%\n",
       "16   17                Arouca   37383   5603    640     2199       −2.0%\n",
       "17   18            Moreirense   29030   5351    658     1708      −40.7%"
      ]
     },
     "execution_count": 24,
     "metadata": {},
     "output_type": "execute_result"
    }
   ],
   "source": [
    "#df = pd.read_csv('Files/Attendances.csv')#, thousands=',')\n",
    "##Get a single sheet\n",
    "df = pd.ExcelFile('Files/Attendances.xlsx').parse('Final')\n",
    "#Or read_json (not in this class)\n",
    "#Or read from clipboard (additional packaged needed)\n",
    "#df = pd.read_clipboard()\n",
    "df"
   ]
  },
  {
   "cell_type": "code",
   "execution_count": 25,
   "metadata": {},
   "outputs": [
    {
     "data": {
      "text/html": [
       "<div>\n",
       "<style>\n",
       "    .dataframe thead tr:only-child th {\n",
       "        text-align: right;\n",
       "    }\n",
       "\n",
       "    .dataframe thead th {\n",
       "        text-align: left;\n",
       "    }\n",
       "\n",
       "    .dataframe tbody tr th {\n",
       "        vertical-align: top;\n",
       "    }\n",
       "</style>\n",
       "<table border=\"1\" class=\"dataframe\">\n",
       "  <thead>\n",
       "    <tr style=\"text-align: right;\">\n",
       "      <th></th>\n",
       "      <th>Pos</th>\n",
       "      <th>Team</th>\n",
       "      <th>Total</th>\n",
       "      <th>High</th>\n",
       "      <th>Low</th>\n",
       "      <th>Average</th>\n",
       "      <th>Change</th>\n",
       "    </tr>\n",
       "  </thead>\n",
       "  <tbody>\n",
       "    <tr>\n",
       "      <th>0</th>\n",
       "      <td>1</td>\n",
       "      <td>Benfica</td>\n",
       "      <td>951184</td>\n",
       "      <td>64591</td>\n",
       "      <td>46256</td>\n",
       "      <td>55952</td>\n",
       "      <td>+11.1%</td>\n",
       "    </tr>\n",
       "    <tr>\n",
       "      <th>1</th>\n",
       "      <td>2</td>\n",
       "      <td>Sporting CP</td>\n",
       "      <td>727121</td>\n",
       "      <td>49399</td>\n",
       "      <td>32457</td>\n",
       "      <td>42772</td>\n",
       "      <td>+6.9%</td>\n",
       "    </tr>\n",
       "    <tr>\n",
       "      <th>2</th>\n",
       "      <td>3</td>\n",
       "      <td>Porto</td>\n",
       "      <td>631202</td>\n",
       "      <td>50019</td>\n",
       "      <td>22208</td>\n",
       "      <td>37130</td>\n",
       "      <td>+14.8%</td>\n",
       "    </tr>\n",
       "  </tbody>\n",
       "</table>\n",
       "</div>"
      ],
      "text/plain": [
       "   Pos         Team   Total   High    Low  Average  Change\n",
       "0    1      Benfica  951184  64591  46256    55952  +11.1%\n",
       "1    2  Sporting CP  727121  49399  32457    42772   +6.9%\n",
       "2    3        Porto  631202  50019  22208    37130  +14.8%"
      ]
     },
     "execution_count": 25,
     "metadata": {},
     "output_type": "execute_result"
    }
   ],
   "source": [
    "df.head(3)"
   ]
  },
  {
   "cell_type": "code",
   "execution_count": 26,
   "metadata": {},
   "outputs": [
    {
     "data": {
      "text/html": [
       "<div>\n",
       "<style>\n",
       "    .dataframe thead tr:only-child th {\n",
       "        text-align: right;\n",
       "    }\n",
       "\n",
       "    .dataframe thead th {\n",
       "        text-align: left;\n",
       "    }\n",
       "\n",
       "    .dataframe tbody tr th {\n",
       "        vertical-align: top;\n",
       "    }\n",
       "</style>\n",
       "<table border=\"1\" class=\"dataframe\">\n",
       "  <thead>\n",
       "    <tr style=\"text-align: right;\">\n",
       "      <th></th>\n",
       "      <th>Pos</th>\n",
       "      <th>Team</th>\n",
       "      <th>Total</th>\n",
       "      <th>High</th>\n",
       "      <th>Low</th>\n",
       "      <th>Average</th>\n",
       "      <th>Change</th>\n",
       "    </tr>\n",
       "  </thead>\n",
       "  <tbody>\n",
       "    <tr>\n",
       "      <th>16</th>\n",
       "      <td>17</td>\n",
       "      <td>Arouca</td>\n",
       "      <td>37383</td>\n",
       "      <td>5603</td>\n",
       "      <td>640</td>\n",
       "      <td>2199</td>\n",
       "      <td>−2.0%</td>\n",
       "    </tr>\n",
       "    <tr>\n",
       "      <th>17</th>\n",
       "      <td>18</td>\n",
       "      <td>Moreirense</td>\n",
       "      <td>29030</td>\n",
       "      <td>5351</td>\n",
       "      <td>658</td>\n",
       "      <td>1708</td>\n",
       "      <td>−40.7%</td>\n",
       "    </tr>\n",
       "  </tbody>\n",
       "</table>\n",
       "</div>"
      ],
      "text/plain": [
       "    Pos        Team  Total  High  Low  Average  Change\n",
       "16   17      Arouca  37383  5603  640     2199   −2.0%\n",
       "17   18  Moreirense  29030  5351  658     1708  −40.7%"
      ]
     },
     "execution_count": 26,
     "metadata": {},
     "output_type": "execute_result"
    }
   ],
   "source": [
    "df.tail(2)"
   ]
  },
  {
   "cell_type": "code",
   "execution_count": 27,
   "metadata": {},
   "outputs": [
    {
     "data": {
      "text/html": [
       "<div>\n",
       "<style>\n",
       "    .dataframe thead tr:only-child th {\n",
       "        text-align: right;\n",
       "    }\n",
       "\n",
       "    .dataframe thead th {\n",
       "        text-align: left;\n",
       "    }\n",
       "\n",
       "    .dataframe tbody tr th {\n",
       "        vertical-align: top;\n",
       "    }\n",
       "</style>\n",
       "<table border=\"1\" class=\"dataframe\">\n",
       "  <thead>\n",
       "    <tr style=\"text-align: right;\">\n",
       "      <th></th>\n",
       "      <th>Pos</th>\n",
       "      <th>Team</th>\n",
       "      <th>Total</th>\n",
       "      <th>High</th>\n",
       "      <th>Low</th>\n",
       "      <th>Average</th>\n",
       "      <th>Change</th>\n",
       "    </tr>\n",
       "  </thead>\n",
       "  <tbody>\n",
       "    <tr>\n",
       "      <th>0</th>\n",
       "      <td>1</td>\n",
       "      <td>Benfica</td>\n",
       "      <td>951184</td>\n",
       "      <td>64591</td>\n",
       "      <td>46256</td>\n",
       "      <td>55952</td>\n",
       "      <td>+11.1%</td>\n",
       "    </tr>\n",
       "    <tr>\n",
       "      <th>1</th>\n",
       "      <td>2</td>\n",
       "      <td>Sporting CP</td>\n",
       "      <td>727121</td>\n",
       "      <td>49399</td>\n",
       "      <td>32457</td>\n",
       "      <td>42772</td>\n",
       "      <td>+6.9%</td>\n",
       "    </tr>\n",
       "    <tr>\n",
       "      <th>2</th>\n",
       "      <td>3</td>\n",
       "      <td>Porto</td>\n",
       "      <td>631202</td>\n",
       "      <td>50019</td>\n",
       "      <td>22208</td>\n",
       "      <td>37130</td>\n",
       "      <td>+14.8%</td>\n",
       "    </tr>\n",
       "    <tr>\n",
       "      <th>3</th>\n",
       "      <td>4</td>\n",
       "      <td>Vitória de Guimarães</td>\n",
       "      <td>318856</td>\n",
       "      <td>26985</td>\n",
       "      <td>12953</td>\n",
       "      <td>18756</td>\n",
       "      <td>+50.9%</td>\n",
       "    </tr>\n",
       "    <tr>\n",
       "      <th>4</th>\n",
       "      <td>5</td>\n",
       "      <td>Braga</td>\n",
       "      <td>195366</td>\n",
       "      <td>24836</td>\n",
       "      <td>5545</td>\n",
       "      <td>11492</td>\n",
       "      <td>+2.9%</td>\n",
       "    </tr>\n",
       "    <tr>\n",
       "      <th>5</th>\n",
       "      <td>6</td>\n",
       "      <td>Marítimo</td>\n",
       "      <td>132909</td>\n",
       "      <td>10454</td>\n",
       "      <td>4150</td>\n",
       "      <td>7818</td>\n",
       "      <td>+27.2%</td>\n",
       "    </tr>\n",
       "    <tr>\n",
       "      <th>6</th>\n",
       "      <td>7</td>\n",
       "      <td>Boavista</td>\n",
       "      <td>103461</td>\n",
       "      <td>16157</td>\n",
       "      <td>3955</td>\n",
       "      <td>6086</td>\n",
       "      <td>+5.9%</td>\n",
       "    </tr>\n",
       "    <tr>\n",
       "      <th>7</th>\n",
       "      <td>8</td>\n",
       "      <td>Belenenses</td>\n",
       "      <td>68799</td>\n",
       "      <td>12236</td>\n",
       "      <td>1309</td>\n",
       "      <td>4047</td>\n",
       "      <td>−9.2%</td>\n",
       "    </tr>\n",
       "    <tr>\n",
       "      <th>8</th>\n",
       "      <td>9</td>\n",
       "      <td>Rio Ave</td>\n",
       "      <td>67215</td>\n",
       "      <td>8767</td>\n",
       "      <td>1508</td>\n",
       "      <td>3954</td>\n",
       "      <td>+19.7%</td>\n",
       "    </tr>\n",
       "    <tr>\n",
       "      <th>9</th>\n",
       "      <td>10</td>\n",
       "      <td>Chaves</td>\n",
       "      <td>65320</td>\n",
       "      <td>10109</td>\n",
       "      <td>2081</td>\n",
       "      <td>3842</td>\n",
       "      <td>−13.3%</td>\n",
       "    </tr>\n",
       "    <tr>\n",
       "      <th>10</th>\n",
       "      <td>11</td>\n",
       "      <td>Paços de Ferreira</td>\n",
       "      <td>61551</td>\n",
       "      <td>8000</td>\n",
       "      <td>1730</td>\n",
       "      <td>3496</td>\n",
       "      <td>+33.3%[1]</td>\n",
       "    </tr>\n",
       "    <tr>\n",
       "      <th>11</th>\n",
       "      <td>12</td>\n",
       "      <td>Vitória de Setúbal</td>\n",
       "      <td>58051</td>\n",
       "      <td>9076</td>\n",
       "      <td>1059</td>\n",
       "      <td>3415</td>\n",
       "      <td>+21.9%</td>\n",
       "    </tr>\n",
       "    <tr>\n",
       "      <th>12</th>\n",
       "      <td>13</td>\n",
       "      <td>Feirense</td>\n",
       "      <td>50517</td>\n",
       "      <td>5449</td>\n",
       "      <td>1099</td>\n",
       "      <td>2972</td>\n",
       "      <td>+183.5%[1]</td>\n",
       "    </tr>\n",
       "    <tr>\n",
       "      <th>13</th>\n",
       "      <td>14</td>\n",
       "      <td>Nacional</td>\n",
       "      <td>46500</td>\n",
       "      <td>5017</td>\n",
       "      <td>1126</td>\n",
       "      <td>2735</td>\n",
       "      <td>+9.8%</td>\n",
       "    </tr>\n",
       "    <tr>\n",
       "      <th>14</th>\n",
       "      <td>15</td>\n",
       "      <td>Estoril</td>\n",
       "      <td>39239</td>\n",
       "      <td>4987</td>\n",
       "      <td>1045</td>\n",
       "      <td>2308</td>\n",
       "      <td>−30.5%</td>\n",
       "    </tr>\n",
       "    <tr>\n",
       "      <th>15</th>\n",
       "      <td>16</td>\n",
       "      <td>Tondela</td>\n",
       "      <td>38668</td>\n",
       "      <td>7429</td>\n",
       "      <td>877</td>\n",
       "      <td>2275</td>\n",
       "      <td>−22.6%</td>\n",
       "    </tr>\n",
       "    <tr>\n",
       "      <th>16</th>\n",
       "      <td>17</td>\n",
       "      <td>Arouca</td>\n",
       "      <td>37383</td>\n",
       "      <td>5603</td>\n",
       "      <td>640</td>\n",
       "      <td>2199</td>\n",
       "      <td>−2.0%</td>\n",
       "    </tr>\n",
       "    <tr>\n",
       "      <th>17</th>\n",
       "      <td>18</td>\n",
       "      <td>Moreirense</td>\n",
       "      <td>29030</td>\n",
       "      <td>5351</td>\n",
       "      <td>658</td>\n",
       "      <td>1708</td>\n",
       "      <td>−40.7%</td>\n",
       "    </tr>\n",
       "  </tbody>\n",
       "</table>\n",
       "</div>"
      ],
      "text/plain": [
       "    Pos                  Team   Total   High    Low  Average      Change\n",
       "0     1               Benfica  951184  64591  46256    55952      +11.1%\n",
       "1     2           Sporting CP  727121  49399  32457    42772       +6.9%\n",
       "2     3                 Porto  631202  50019  22208    37130      +14.8%\n",
       "3     4  Vitória de Guimarães  318856  26985  12953    18756      +50.9%\n",
       "4     5                 Braga  195366  24836   5545    11492       +2.9%\n",
       "5     6              Marítimo  132909  10454   4150     7818      +27.2%\n",
       "6     7              Boavista  103461  16157   3955     6086       +5.9%\n",
       "7     8            Belenenses   68799  12236   1309     4047       −9.2%\n",
       "8     9               Rio Ave   67215   8767   1508     3954      +19.7%\n",
       "9    10                Chaves   65320  10109   2081     3842      −13.3%\n",
       "10   11     Paços de Ferreira   61551   8000   1730     3496   +33.3%[1]\n",
       "11   12    Vitória de Setúbal   58051   9076   1059     3415      +21.9%\n",
       "12   13              Feirense   50517   5449   1099     2972  +183.5%[1]\n",
       "13   14              Nacional   46500   5017   1126     2735       +9.8%\n",
       "14   15               Estoril   39239   4987   1045     2308      −30.5%\n",
       "15   16               Tondela   38668   7429    877     2275      −22.6%\n",
       "16   17                Arouca   37383   5603    640     2199       −2.0%\n",
       "17   18            Moreirense   29030   5351    658     1708      −40.7%"
      ]
     },
     "execution_count": 27,
     "metadata": {},
     "output_type": "execute_result"
    }
   ],
   "source": [
    "df"
   ]
  },
  {
   "cell_type": "code",
   "execution_count": 28,
   "metadata": {},
   "outputs": [
    {
     "data": {
      "text/plain": [
       "Pos             5\n",
       "Team        Braga\n",
       "Total      195366\n",
       "High        24836\n",
       "Low          5545\n",
       "Average     11492\n",
       "Change      +2.9%\n",
       "Name: 4, dtype: object"
      ]
     },
     "execution_count": 28,
     "metadata": {},
     "output_type": "execute_result"
    }
   ],
   "source": [
    "df.loc[4]"
   ]
  },
  {
   "cell_type": "code",
   "execution_count": 29,
   "metadata": {
    "collapsed": true
   },
   "outputs": [],
   "source": [
    "df = pd.read_csv('Files/Attendances.csv', index_col='Pos')"
   ]
  },
  {
   "cell_type": "code",
   "execution_count": 30,
   "metadata": {},
   "outputs": [
    {
     "data": {
      "text/html": [
       "<div>\n",
       "<style>\n",
       "    .dataframe thead tr:only-child th {\n",
       "        text-align: right;\n",
       "    }\n",
       "\n",
       "    .dataframe thead th {\n",
       "        text-align: left;\n",
       "    }\n",
       "\n",
       "    .dataframe tbody tr th {\n",
       "        vertical-align: top;\n",
       "    }\n",
       "</style>\n",
       "<table border=\"1\" class=\"dataframe\">\n",
       "  <thead>\n",
       "    <tr style=\"text-align: right;\">\n",
       "      <th></th>\n",
       "      <th>Team</th>\n",
       "      <th>Total</th>\n",
       "      <th>High</th>\n",
       "      <th>Low</th>\n",
       "      <th>Average</th>\n",
       "      <th>Change</th>\n",
       "    </tr>\n",
       "    <tr>\n",
       "      <th>Pos</th>\n",
       "      <th></th>\n",
       "      <th></th>\n",
       "      <th></th>\n",
       "      <th></th>\n",
       "      <th></th>\n",
       "      <th></th>\n",
       "    </tr>\n",
       "  </thead>\n",
       "  <tbody>\n",
       "    <tr>\n",
       "      <th>1</th>\n",
       "      <td>Benfica</td>\n",
       "      <td>951184</td>\n",
       "      <td>64591</td>\n",
       "      <td>46256</td>\n",
       "      <td>55952</td>\n",
       "      <td>+11.1%</td>\n",
       "    </tr>\n",
       "    <tr>\n",
       "      <th>2</th>\n",
       "      <td>Sporting CP</td>\n",
       "      <td>727121</td>\n",
       "      <td>49399</td>\n",
       "      <td>32457</td>\n",
       "      <td>42772</td>\n",
       "      <td>+6.9%</td>\n",
       "    </tr>\n",
       "    <tr>\n",
       "      <th>3</th>\n",
       "      <td>Porto</td>\n",
       "      <td>631202</td>\n",
       "      <td>50019</td>\n",
       "      <td>22208</td>\n",
       "      <td>37130</td>\n",
       "      <td>+14.8%</td>\n",
       "    </tr>\n",
       "  </tbody>\n",
       "</table>\n",
       "</div>"
      ],
      "text/plain": [
       "            Team   Total   High    Low  Average  Change\n",
       "Pos                                                    \n",
       "1        Benfica  951184  64591  46256    55952  +11.1%\n",
       "2    Sporting CP  727121  49399  32457    42772   +6.9%\n",
       "3          Porto  631202  50019  22208    37130  +14.8%"
      ]
     },
     "execution_count": 30,
     "metadata": {},
     "output_type": "execute_result"
    }
   ],
   "source": [
    "df.head(3)"
   ]
  },
  {
   "cell_type": "code",
   "execution_count": 31,
   "metadata": {},
   "outputs": [
    {
     "data": {
      "text/plain": [
       "Team       Benfica\n",
       "Total       951184\n",
       "High         64591\n",
       "Low          46256\n",
       "Average      55952\n",
       "Change      +11.1%\n",
       "Name: 1, dtype: object"
      ]
     },
     "execution_count": 31,
     "metadata": {},
     "output_type": "execute_result"
    }
   ],
   "source": [
    "df.loc[1]"
   ]
  },
  {
   "cell_type": "code",
   "execution_count": 32,
   "metadata": {},
   "outputs": [
    {
     "data": {
      "text/html": [
       "<div>\n",
       "<style>\n",
       "    .dataframe thead tr:only-child th {\n",
       "        text-align: right;\n",
       "    }\n",
       "\n",
       "    .dataframe thead th {\n",
       "        text-align: left;\n",
       "    }\n",
       "\n",
       "    .dataframe tbody tr th {\n",
       "        vertical-align: top;\n",
       "    }\n",
       "</style>\n",
       "<table border=\"1\" class=\"dataframe\">\n",
       "  <thead>\n",
       "    <tr style=\"text-align: right;\">\n",
       "      <th></th>\n",
       "      <th>Team</th>\n",
       "      <th>Average</th>\n",
       "    </tr>\n",
       "    <tr>\n",
       "      <th>Pos</th>\n",
       "      <th></th>\n",
       "      <th></th>\n",
       "    </tr>\n",
       "  </thead>\n",
       "  <tbody>\n",
       "    <tr>\n",
       "      <th>1</th>\n",
       "      <td>Benfica</td>\n",
       "      <td>55952</td>\n",
       "    </tr>\n",
       "    <tr>\n",
       "      <th>2</th>\n",
       "      <td>Sporting CP</td>\n",
       "      <td>42772</td>\n",
       "    </tr>\n",
       "    <tr>\n",
       "      <th>3</th>\n",
       "      <td>Porto</td>\n",
       "      <td>37130</td>\n",
       "    </tr>\n",
       "    <tr>\n",
       "      <th>4</th>\n",
       "      <td>Vitória de Guimarães</td>\n",
       "      <td>18756</td>\n",
       "    </tr>\n",
       "    <tr>\n",
       "      <th>5</th>\n",
       "      <td>Braga</td>\n",
       "      <td>11492</td>\n",
       "    </tr>\n",
       "    <tr>\n",
       "      <th>6</th>\n",
       "      <td>Marítimo</td>\n",
       "      <td>7818</td>\n",
       "    </tr>\n",
       "    <tr>\n",
       "      <th>7</th>\n",
       "      <td>Boavista</td>\n",
       "      <td>6086</td>\n",
       "    </tr>\n",
       "    <tr>\n",
       "      <th>8</th>\n",
       "      <td>Belenenses</td>\n",
       "      <td>4047</td>\n",
       "    </tr>\n",
       "    <tr>\n",
       "      <th>9</th>\n",
       "      <td>Rio Ave</td>\n",
       "      <td>3954</td>\n",
       "    </tr>\n",
       "    <tr>\n",
       "      <th>10</th>\n",
       "      <td>Chaves</td>\n",
       "      <td>3842</td>\n",
       "    </tr>\n",
       "    <tr>\n",
       "      <th>11</th>\n",
       "      <td>Paços de Ferreira</td>\n",
       "      <td>3496</td>\n",
       "    </tr>\n",
       "    <tr>\n",
       "      <th>12</th>\n",
       "      <td>Vitória de Setúbal</td>\n",
       "      <td>3415</td>\n",
       "    </tr>\n",
       "    <tr>\n",
       "      <th>13</th>\n",
       "      <td>Feirense</td>\n",
       "      <td>2972</td>\n",
       "    </tr>\n",
       "    <tr>\n",
       "      <th>14</th>\n",
       "      <td>Nacional</td>\n",
       "      <td>2735</td>\n",
       "    </tr>\n",
       "    <tr>\n",
       "      <th>15</th>\n",
       "      <td>Estoril</td>\n",
       "      <td>2308</td>\n",
       "    </tr>\n",
       "    <tr>\n",
       "      <th>16</th>\n",
       "      <td>Tondela</td>\n",
       "      <td>2275</td>\n",
       "    </tr>\n",
       "    <tr>\n",
       "      <th>17</th>\n",
       "      <td>Arouca</td>\n",
       "      <td>2199</td>\n",
       "    </tr>\n",
       "    <tr>\n",
       "      <th>18</th>\n",
       "      <td>Moreirense</td>\n",
       "      <td>1708</td>\n",
       "    </tr>\n",
       "  </tbody>\n",
       "</table>\n",
       "</div>"
      ],
      "text/plain": [
       "                     Team  Average\n",
       "Pos                               \n",
       "1                 Benfica    55952\n",
       "2             Sporting CP    42772\n",
       "3                   Porto    37130\n",
       "4    Vitória de Guimarães    18756\n",
       "5                   Braga    11492\n",
       "6                Marítimo     7818\n",
       "7                Boavista     6086\n",
       "8              Belenenses     4047\n",
       "9                 Rio Ave     3954\n",
       "10                 Chaves     3842\n",
       "11      Paços de Ferreira     3496\n",
       "12     Vitória de Setúbal     3415\n",
       "13               Feirense     2972\n",
       "14               Nacional     2735\n",
       "15                Estoril     2308\n",
       "16                Tondela     2275\n",
       "17                 Arouca     2199\n",
       "18             Moreirense     1708"
      ]
     },
     "execution_count": 32,
     "metadata": {},
     "output_type": "execute_result"
    }
   ],
   "source": [
    "df[['Team','Average']]"
   ]
  },
  {
   "cell_type": "code",
   "execution_count": 34,
   "metadata": {},
   "outputs": [
    {
     "data": {
      "text/plain": [
       "106478L"
      ]
     },
     "execution_count": 34,
     "metadata": {},
     "output_type": "execute_result"
    }
   ],
   "source": [
    "#How many people during a Match Day went to a game\n",
    "df['Average'].sum()/2"
   ]
  },
  {
   "cell_type": "markdown",
   "metadata": {},
   "source": [
    "You need to be careful and make sure your database is conviniently formatted. Here, the Portuguese convention for the thousands separator, a comma, ruined our chances of having floats or ints. No math is possible, so we must replace it in the database."
   ]
  },
  {
   "cell_type": "code",
   "execution_count": 36,
   "metadata": {},
   "outputs": [
    {
     "data": {
      "text/html": [
       "<div>\n",
       "<style>\n",
       "    .dataframe thead tr:only-child th {\n",
       "        text-align: right;\n",
       "    }\n",
       "\n",
       "    .dataframe thead th {\n",
       "        text-align: left;\n",
       "    }\n",
       "\n",
       "    .dataframe tbody tr th {\n",
       "        vertical-align: top;\n",
       "    }\n",
       "</style>\n",
       "<table border=\"1\" class=\"dataframe\">\n",
       "  <thead>\n",
       "    <tr style=\"text-align: right;\">\n",
       "      <th></th>\n",
       "      <th>Total</th>\n",
       "      <th>High</th>\n",
       "      <th>Low</th>\n",
       "      <th>Average</th>\n",
       "    </tr>\n",
       "    <tr>\n",
       "      <th>Pos</th>\n",
       "      <th></th>\n",
       "      <th></th>\n",
       "      <th></th>\n",
       "      <th></th>\n",
       "    </tr>\n",
       "  </thead>\n",
       "  <tbody>\n",
       "    <tr>\n",
       "      <th>1</th>\n",
       "      <td>390748</td>\n",
       "      <td>63312</td>\n",
       "      <td>51566</td>\n",
       "      <td>55821</td>\n",
       "    </tr>\n",
       "    <tr>\n",
       "      <th>2</th>\n",
       "      <td>388328</td>\n",
       "      <td>49399</td>\n",
       "      <td>40027</td>\n",
       "      <td>43148</td>\n",
       "    </tr>\n",
       "    <tr>\n",
       "      <th>3</th>\n",
       "      <td>277491</td>\n",
       "      <td>50019</td>\n",
       "      <td>22208</td>\n",
       "      <td>34686</td>\n",
       "    </tr>\n",
       "    <tr>\n",
       "      <th>4</th>\n",
       "      <td>140646</td>\n",
       "      <td>26985</td>\n",
       "      <td>12953</td>\n",
       "      <td>17581</td>\n",
       "    </tr>\n",
       "    <tr>\n",
       "      <th>5</th>\n",
       "      <td>73298</td>\n",
       "      <td>11328</td>\n",
       "      <td>7543</td>\n",
       "      <td>9162</td>\n",
       "    </tr>\n",
       "    <tr>\n",
       "      <th>6</th>\n",
       "      <td>45746</td>\n",
       "      <td>10320</td>\n",
       "      <td>4150</td>\n",
       "      <td>6535</td>\n",
       "    </tr>\n",
       "    <tr>\n",
       "      <th>7</th>\n",
       "      <td>42070</td>\n",
       "      <td>9958</td>\n",
       "      <td>4182</td>\n",
       "      <td>5259</td>\n",
       "    </tr>\n",
       "    <tr>\n",
       "      <th>8</th>\n",
       "      <td>34982</td>\n",
       "      <td>12236</td>\n",
       "      <td>1309</td>\n",
       "      <td>4997</td>\n",
       "    </tr>\n",
       "    <tr>\n",
       "      <th>9</th>\n",
       "      <td>38945</td>\n",
       "      <td>8357</td>\n",
       "      <td>2116</td>\n",
       "      <td>4327</td>\n",
       "    </tr>\n",
       "    <tr>\n",
       "      <th>10</th>\n",
       "      <td>26852</td>\n",
       "      <td>8000</td>\n",
       "      <td>1885</td>\n",
       "      <td>3357</td>\n",
       "    </tr>\n",
       "    <tr>\n",
       "      <th>11</th>\n",
       "      <td>25643</td>\n",
       "      <td>6271</td>\n",
       "      <td>1384</td>\n",
       "      <td>3205</td>\n",
       "    </tr>\n",
       "    <tr>\n",
       "      <th>12</th>\n",
       "      <td>24464</td>\n",
       "      <td>7245</td>\n",
       "      <td>2081</td>\n",
       "      <td>3058</td>\n",
       "    </tr>\n",
       "    <tr>\n",
       "      <th>13</th>\n",
       "      <td>20877</td>\n",
       "      <td>4635</td>\n",
       "      <td>1099</td>\n",
       "      <td>2610</td>\n",
       "    </tr>\n",
       "    <tr>\n",
       "      <th>14</th>\n",
       "      <td>22972</td>\n",
       "      <td>5017</td>\n",
       "      <td>1126</td>\n",
       "      <td>2552</td>\n",
       "    </tr>\n",
       "    <tr>\n",
       "      <th>15</th>\n",
       "      <td>17765</td>\n",
       "      <td>7429</td>\n",
       "      <td>953</td>\n",
       "      <td>2221</td>\n",
       "    </tr>\n",
       "    <tr>\n",
       "      <th>16</th>\n",
       "      <td>16985</td>\n",
       "      <td>4973</td>\n",
       "      <td>1090</td>\n",
       "      <td>2123</td>\n",
       "    </tr>\n",
       "    <tr>\n",
       "      <th>17</th>\n",
       "      <td>14247</td>\n",
       "      <td>5351</td>\n",
       "      <td>740</td>\n",
       "      <td>1781</td>\n",
       "    </tr>\n",
       "    <tr>\n",
       "      <th>18</th>\n",
       "      <td>11394</td>\n",
       "      <td>3810</td>\n",
       "      <td>640</td>\n",
       "      <td>1424</td>\n",
       "    </tr>\n",
       "  </tbody>\n",
       "</table>\n",
       "</div>"
      ],
      "text/plain": [
       "      Total   High    Low  Average\n",
       "Pos                               \n",
       "1    390748  63312  51566    55821\n",
       "2    388328  49399  40027    43148\n",
       "3    277491  50019  22208    34686\n",
       "4    140646  26985  12953    17581\n",
       "5     73298  11328   7543     9162\n",
       "6     45746  10320   4150     6535\n",
       "7     42070   9958   4182     5259\n",
       "8     34982  12236   1309     4997\n",
       "9     38945   8357   2116     4327\n",
       "10    26852   8000   1885     3357\n",
       "11    25643   6271   1384     3205\n",
       "12    24464   7245   2081     3058\n",
       "13    20877   4635   1099     2610\n",
       "14    22972   5017   1126     2552\n",
       "15    17765   7429    953     2221\n",
       "16    16985   4973   1090     2123\n",
       "17    14247   5351    740     1781\n",
       "18    11394   3810    640     1424"
      ]
     },
     "execution_count": 36,
     "metadata": {},
     "output_type": "execute_result"
    }
   ],
   "source": [
    "#Fields we want to change\n",
    "df[['Total','High','Low','Average']].replace(to_replace=',', value='', regex=True).astype(int)"
   ]
  },
  {
   "cell_type": "code",
   "execution_count": null,
   "metadata": {
    "collapsed": true
   },
   "outputs": [],
   "source": [
    "#df2"
   ]
  },
  {
   "cell_type": "code",
   "execution_count": null,
   "metadata": {
    "collapsed": true
   },
   "outputs": [],
   "source": [
    "#df2.mean()"
   ]
  },
  {
   "cell_type": "code",
   "execution_count": 35,
   "metadata": {
    "collapsed": true
   },
   "outputs": [],
   "source": [
    "#To replace with a similar dataframe as the original\n",
    "# ndf = df does not work, as if you change ndf you will change df as well\n",
    "ndf = df.copy(deep=True)\n",
    "#ndf[['Total','High','Low','Average']] = df[['Total','High','Low','Average']].replace(to_replace=',', value='', regex=True).astype(int)"
   ]
  },
  {
   "cell_type": "code",
   "execution_count": 36,
   "metadata": {},
   "outputs": [
    {
     "data": {
      "text/html": [
       "<div>\n",
       "<style>\n",
       "    .dataframe thead tr:only-child th {\n",
       "        text-align: right;\n",
       "    }\n",
       "\n",
       "    .dataframe thead th {\n",
       "        text-align: left;\n",
       "    }\n",
       "\n",
       "    .dataframe tbody tr th {\n",
       "        vertical-align: top;\n",
       "    }\n",
       "</style>\n",
       "<table border=\"1\" class=\"dataframe\">\n",
       "  <thead>\n",
       "    <tr style=\"text-align: right;\">\n",
       "      <th></th>\n",
       "      <th>Team</th>\n",
       "      <th>Total</th>\n",
       "      <th>High</th>\n",
       "      <th>Low</th>\n",
       "      <th>Average</th>\n",
       "      <th>Change</th>\n",
       "    </tr>\n",
       "    <tr>\n",
       "      <th>Pos</th>\n",
       "      <th></th>\n",
       "      <th></th>\n",
       "      <th></th>\n",
       "      <th></th>\n",
       "      <th></th>\n",
       "      <th></th>\n",
       "    </tr>\n",
       "  </thead>\n",
       "  <tbody>\n",
       "    <tr>\n",
       "      <th>1</th>\n",
       "      <td>Benfica</td>\n",
       "      <td>951184</td>\n",
       "      <td>64591</td>\n",
       "      <td>46256</td>\n",
       "      <td>55952</td>\n",
       "      <td>+11.1%</td>\n",
       "    </tr>\n",
       "    <tr>\n",
       "      <th>2</th>\n",
       "      <td>Sporting CP</td>\n",
       "      <td>727121</td>\n",
       "      <td>49399</td>\n",
       "      <td>32457</td>\n",
       "      <td>42772</td>\n",
       "      <td>+6.9%</td>\n",
       "    </tr>\n",
       "    <tr>\n",
       "      <th>3</th>\n",
       "      <td>Porto</td>\n",
       "      <td>631202</td>\n",
       "      <td>50019</td>\n",
       "      <td>22208</td>\n",
       "      <td>37130</td>\n",
       "      <td>+14.8%</td>\n",
       "    </tr>\n",
       "    <tr>\n",
       "      <th>4</th>\n",
       "      <td>Vitória de Guimarães</td>\n",
       "      <td>318856</td>\n",
       "      <td>26985</td>\n",
       "      <td>12953</td>\n",
       "      <td>18756</td>\n",
       "      <td>+50.9%</td>\n",
       "    </tr>\n",
       "    <tr>\n",
       "      <th>5</th>\n",
       "      <td>Braga</td>\n",
       "      <td>195366</td>\n",
       "      <td>24836</td>\n",
       "      <td>5545</td>\n",
       "      <td>11492</td>\n",
       "      <td>+2.9%</td>\n",
       "    </tr>\n",
       "  </tbody>\n",
       "</table>\n",
       "</div>"
      ],
      "text/plain": [
       "                     Team   Total   High    Low  Average  Change\n",
       "Pos                                                             \n",
       "1                 Benfica  951184  64591  46256    55952  +11.1%\n",
       "2             Sporting CP  727121  49399  32457    42772   +6.9%\n",
       "3                   Porto  631202  50019  22208    37130  +14.8%\n",
       "4    Vitória de Guimarães  318856  26985  12953    18756  +50.9%\n",
       "5                   Braga  195366  24836   5545    11492   +2.9%"
      ]
     },
     "execution_count": 36,
     "metadata": {},
     "output_type": "execute_result"
    }
   ],
   "source": [
    "ndf.head()"
   ]
  },
  {
   "cell_type": "code",
   "execution_count": 37,
   "metadata": {},
   "outputs": [],
   "source": [
    "ndf.drop(['Change'], axis=1, inplace=True)"
   ]
  },
  {
   "cell_type": "code",
   "execution_count": 38,
   "metadata": {},
   "outputs": [
    {
     "data": {
      "text/html": [
       "<div>\n",
       "<style>\n",
       "    .dataframe thead tr:only-child th {\n",
       "        text-align: right;\n",
       "    }\n",
       "\n",
       "    .dataframe thead th {\n",
       "        text-align: left;\n",
       "    }\n",
       "\n",
       "    .dataframe tbody tr th {\n",
       "        vertical-align: top;\n",
       "    }\n",
       "</style>\n",
       "<table border=\"1\" class=\"dataframe\">\n",
       "  <thead>\n",
       "    <tr style=\"text-align: right;\">\n",
       "      <th></th>\n",
       "      <th>Team</th>\n",
       "      <th>Total</th>\n",
       "      <th>High</th>\n",
       "      <th>Low</th>\n",
       "      <th>Average</th>\n",
       "    </tr>\n",
       "    <tr>\n",
       "      <th>Pos</th>\n",
       "      <th></th>\n",
       "      <th></th>\n",
       "      <th></th>\n",
       "      <th></th>\n",
       "      <th></th>\n",
       "    </tr>\n",
       "  </thead>\n",
       "  <tbody>\n",
       "    <tr>\n",
       "      <th>1</th>\n",
       "      <td>Benfica</td>\n",
       "      <td>951184</td>\n",
       "      <td>64591</td>\n",
       "      <td>46256</td>\n",
       "      <td>55952</td>\n",
       "    </tr>\n",
       "    <tr>\n",
       "      <th>2</th>\n",
       "      <td>Sporting CP</td>\n",
       "      <td>727121</td>\n",
       "      <td>49399</td>\n",
       "      <td>32457</td>\n",
       "      <td>42772</td>\n",
       "    </tr>\n",
       "    <tr>\n",
       "      <th>3</th>\n",
       "      <td>Porto</td>\n",
       "      <td>631202</td>\n",
       "      <td>50019</td>\n",
       "      <td>22208</td>\n",
       "      <td>37130</td>\n",
       "    </tr>\n",
       "    <tr>\n",
       "      <th>4</th>\n",
       "      <td>Vitória de Guimarães</td>\n",
       "      <td>318856</td>\n",
       "      <td>26985</td>\n",
       "      <td>12953</td>\n",
       "      <td>18756</td>\n",
       "    </tr>\n",
       "    <tr>\n",
       "      <th>5</th>\n",
       "      <td>Braga</td>\n",
       "      <td>195366</td>\n",
       "      <td>24836</td>\n",
       "      <td>5545</td>\n",
       "      <td>11492</td>\n",
       "    </tr>\n",
       "  </tbody>\n",
       "</table>\n",
       "</div>"
      ],
      "text/plain": [
       "                     Team   Total   High    Low  Average\n",
       "Pos                                                     \n",
       "1                 Benfica  951184  64591  46256    55952\n",
       "2             Sporting CP  727121  49399  32457    42772\n",
       "3                   Porto  631202  50019  22208    37130\n",
       "4    Vitória de Guimarães  318856  26985  12953    18756\n",
       "5                   Braga  195366  24836   5545    11492"
      ]
     },
     "execution_count": 38,
     "metadata": {},
     "output_type": "execute_result"
    }
   ],
   "source": [
    "ndf.head()"
   ]
  },
  {
   "cell_type": "code",
   "execution_count": 39,
   "metadata": {},
   "outputs": [
    {
     "data": {
      "text/html": [
       "<div>\n",
       "<style>\n",
       "    .dataframe thead tr:only-child th {\n",
       "        text-align: right;\n",
       "    }\n",
       "\n",
       "    .dataframe thead th {\n",
       "        text-align: left;\n",
       "    }\n",
       "\n",
       "    .dataframe tbody tr th {\n",
       "        vertical-align: top;\n",
       "    }\n",
       "</style>\n",
       "<table border=\"1\" class=\"dataframe\">\n",
       "  <thead>\n",
       "    <tr style=\"text-align: right;\">\n",
       "      <th></th>\n",
       "      <th>Team</th>\n",
       "      <th>Total</th>\n",
       "      <th>High</th>\n",
       "      <th>Low</th>\n",
       "      <th>Average</th>\n",
       "    </tr>\n",
       "    <tr>\n",
       "      <th>Pos</th>\n",
       "      <th></th>\n",
       "      <th></th>\n",
       "      <th></th>\n",
       "      <th></th>\n",
       "      <th></th>\n",
       "    </tr>\n",
       "  </thead>\n",
       "  <tbody>\n",
       "    <tr>\n",
       "      <th>1</th>\n",
       "      <td>Benfica</td>\n",
       "      <td>951184</td>\n",
       "      <td>64591</td>\n",
       "      <td>46256</td>\n",
       "      <td>55952</td>\n",
       "    </tr>\n",
       "    <tr>\n",
       "      <th>2</th>\n",
       "      <td>Sporting CP</td>\n",
       "      <td>727121</td>\n",
       "      <td>49399</td>\n",
       "      <td>32457</td>\n",
       "      <td>42772</td>\n",
       "    </tr>\n",
       "    <tr>\n",
       "      <th>3</th>\n",
       "      <td>Porto</td>\n",
       "      <td>631202</td>\n",
       "      <td>50019</td>\n",
       "      <td>22208</td>\n",
       "      <td>37130</td>\n",
       "    </tr>\n",
       "    <tr>\n",
       "      <th>4</th>\n",
       "      <td>Vitória de Guimarães</td>\n",
       "      <td>318856</td>\n",
       "      <td>26985</td>\n",
       "      <td>12953</td>\n",
       "      <td>18756</td>\n",
       "    </tr>\n",
       "    <tr>\n",
       "      <th>5</th>\n",
       "      <td>Braga</td>\n",
       "      <td>195366</td>\n",
       "      <td>24836</td>\n",
       "      <td>5545</td>\n",
       "      <td>11492</td>\n",
       "    </tr>\n",
       "    <tr>\n",
       "      <th>6</th>\n",
       "      <td>Marítimo</td>\n",
       "      <td>132909</td>\n",
       "      <td>10454</td>\n",
       "      <td>4150</td>\n",
       "      <td>7818</td>\n",
       "    </tr>\n",
       "    <tr>\n",
       "      <th>7</th>\n",
       "      <td>Boavista</td>\n",
       "      <td>103461</td>\n",
       "      <td>16157</td>\n",
       "      <td>3955</td>\n",
       "      <td>6086</td>\n",
       "    </tr>\n",
       "  </tbody>\n",
       "</table>\n",
       "</div>"
      ],
      "text/plain": [
       "                     Team   Total   High    Low  Average\n",
       "Pos                                                     \n",
       "1                 Benfica  951184  64591  46256    55952\n",
       "2             Sporting CP  727121  49399  32457    42772\n",
       "3                   Porto  631202  50019  22208    37130\n",
       "4    Vitória de Guimarães  318856  26985  12953    18756\n",
       "5                   Braga  195366  24836   5545    11492\n",
       "6                Marítimo  132909  10454   4150     7818\n",
       "7                Boavista  103461  16157   3955     6086"
      ]
     },
     "execution_count": 39,
     "metadata": {},
     "output_type": "execute_result"
    }
   ],
   "source": [
    "ndf[ndf['Total']>100000]"
   ]
  },
  {
   "cell_type": "code",
   "execution_count": 40,
   "metadata": {},
   "outputs": [
    {
     "data": {
      "text/html": [
       "<div>\n",
       "<style>\n",
       "    .dataframe thead tr:only-child th {\n",
       "        text-align: right;\n",
       "    }\n",
       "\n",
       "    .dataframe thead th {\n",
       "        text-align: left;\n",
       "    }\n",
       "\n",
       "    .dataframe tbody tr th {\n",
       "        vertical-align: top;\n",
       "    }\n",
       "</style>\n",
       "<table border=\"1\" class=\"dataframe\">\n",
       "  <thead>\n",
       "    <tr style=\"text-align: right;\">\n",
       "      <th></th>\n",
       "      <th>Team</th>\n",
       "      <th>Total</th>\n",
       "      <th>High</th>\n",
       "      <th>Low</th>\n",
       "      <th>Average</th>\n",
       "    </tr>\n",
       "    <tr>\n",
       "      <th>Pos</th>\n",
       "      <th></th>\n",
       "      <th></th>\n",
       "      <th></th>\n",
       "      <th></th>\n",
       "      <th></th>\n",
       "    </tr>\n",
       "  </thead>\n",
       "  <tbody>\n",
       "    <tr>\n",
       "      <th>1</th>\n",
       "      <td>Benfica</td>\n",
       "      <td>951184</td>\n",
       "      <td>64591</td>\n",
       "      <td>46256</td>\n",
       "      <td>55952</td>\n",
       "    </tr>\n",
       "    <tr>\n",
       "      <th>3</th>\n",
       "      <td>Porto</td>\n",
       "      <td>631202</td>\n",
       "      <td>50019</td>\n",
       "      <td>22208</td>\n",
       "      <td>37130</td>\n",
       "    </tr>\n",
       "    <tr>\n",
       "      <th>2</th>\n",
       "      <td>Sporting CP</td>\n",
       "      <td>727121</td>\n",
       "      <td>49399</td>\n",
       "      <td>32457</td>\n",
       "      <td>42772</td>\n",
       "    </tr>\n",
       "    <tr>\n",
       "      <th>4</th>\n",
       "      <td>Vitória de Guimarães</td>\n",
       "      <td>318856</td>\n",
       "      <td>26985</td>\n",
       "      <td>12953</td>\n",
       "      <td>18756</td>\n",
       "    </tr>\n",
       "    <tr>\n",
       "      <th>5</th>\n",
       "      <td>Braga</td>\n",
       "      <td>195366</td>\n",
       "      <td>24836</td>\n",
       "      <td>5545</td>\n",
       "      <td>11492</td>\n",
       "    </tr>\n",
       "    <tr>\n",
       "      <th>7</th>\n",
       "      <td>Boavista</td>\n",
       "      <td>103461</td>\n",
       "      <td>16157</td>\n",
       "      <td>3955</td>\n",
       "      <td>6086</td>\n",
       "    </tr>\n",
       "    <tr>\n",
       "      <th>8</th>\n",
       "      <td>Belenenses</td>\n",
       "      <td>68799</td>\n",
       "      <td>12236</td>\n",
       "      <td>1309</td>\n",
       "      <td>4047</td>\n",
       "    </tr>\n",
       "    <tr>\n",
       "      <th>6</th>\n",
       "      <td>Marítimo</td>\n",
       "      <td>132909</td>\n",
       "      <td>10454</td>\n",
       "      <td>4150</td>\n",
       "      <td>7818</td>\n",
       "    </tr>\n",
       "    <tr>\n",
       "      <th>10</th>\n",
       "      <td>Chaves</td>\n",
       "      <td>65320</td>\n",
       "      <td>10109</td>\n",
       "      <td>2081</td>\n",
       "      <td>3842</td>\n",
       "    </tr>\n",
       "    <tr>\n",
       "      <th>12</th>\n",
       "      <td>Vitória de Setúbal</td>\n",
       "      <td>58051</td>\n",
       "      <td>9076</td>\n",
       "      <td>1059</td>\n",
       "      <td>3415</td>\n",
       "    </tr>\n",
       "    <tr>\n",
       "      <th>9</th>\n",
       "      <td>Rio Ave</td>\n",
       "      <td>67215</td>\n",
       "      <td>8767</td>\n",
       "      <td>1508</td>\n",
       "      <td>3954</td>\n",
       "    </tr>\n",
       "    <tr>\n",
       "      <th>11</th>\n",
       "      <td>Paços de Ferreira</td>\n",
       "      <td>61551</td>\n",
       "      <td>8000</td>\n",
       "      <td>1730</td>\n",
       "      <td>3496</td>\n",
       "    </tr>\n",
       "    <tr>\n",
       "      <th>16</th>\n",
       "      <td>Tondela</td>\n",
       "      <td>38668</td>\n",
       "      <td>7429</td>\n",
       "      <td>877</td>\n",
       "      <td>2275</td>\n",
       "    </tr>\n",
       "    <tr>\n",
       "      <th>17</th>\n",
       "      <td>Arouca</td>\n",
       "      <td>37383</td>\n",
       "      <td>5603</td>\n",
       "      <td>640</td>\n",
       "      <td>2199</td>\n",
       "    </tr>\n",
       "    <tr>\n",
       "      <th>13</th>\n",
       "      <td>Feirense</td>\n",
       "      <td>50517</td>\n",
       "      <td>5449</td>\n",
       "      <td>1099</td>\n",
       "      <td>2972</td>\n",
       "    </tr>\n",
       "    <tr>\n",
       "      <th>18</th>\n",
       "      <td>Moreirense</td>\n",
       "      <td>29030</td>\n",
       "      <td>5351</td>\n",
       "      <td>658</td>\n",
       "      <td>1708</td>\n",
       "    </tr>\n",
       "    <tr>\n",
       "      <th>14</th>\n",
       "      <td>Nacional</td>\n",
       "      <td>46500</td>\n",
       "      <td>5017</td>\n",
       "      <td>1126</td>\n",
       "      <td>2735</td>\n",
       "    </tr>\n",
       "    <tr>\n",
       "      <th>15</th>\n",
       "      <td>Estoril</td>\n",
       "      <td>39239</td>\n",
       "      <td>4987</td>\n",
       "      <td>1045</td>\n",
       "      <td>2308</td>\n",
       "    </tr>\n",
       "  </tbody>\n",
       "</table>\n",
       "</div>"
      ],
      "text/plain": [
       "                     Team   Total   High    Low  Average\n",
       "Pos                                                     \n",
       "1                 Benfica  951184  64591  46256    55952\n",
       "3                   Porto  631202  50019  22208    37130\n",
       "2             Sporting CP  727121  49399  32457    42772\n",
       "4    Vitória de Guimarães  318856  26985  12953    18756\n",
       "5                   Braga  195366  24836   5545    11492\n",
       "7                Boavista  103461  16157   3955     6086\n",
       "8              Belenenses   68799  12236   1309     4047\n",
       "6                Marítimo  132909  10454   4150     7818\n",
       "10                 Chaves   65320  10109   2081     3842\n",
       "12     Vitória de Setúbal   58051   9076   1059     3415\n",
       "9                 Rio Ave   67215   8767   1508     3954\n",
       "11      Paços de Ferreira   61551   8000   1730     3496\n",
       "16                Tondela   38668   7429    877     2275\n",
       "17                 Arouca   37383   5603    640     2199\n",
       "13               Feirense   50517   5449   1099     2972\n",
       "18             Moreirense   29030   5351    658     1708\n",
       "14               Nacional   46500   5017   1126     2735\n",
       "15                Estoril   39239   4987   1045     2308"
      ]
     },
     "execution_count": 40,
     "metadata": {},
     "output_type": "execute_result"
    }
   ],
   "source": [
    "ndf.sort_values('High', ascending=False)"
   ]
  },
  {
   "cell_type": "markdown",
   "metadata": {},
   "source": [
    "print the line where condition is met"
   ]
  },
  {
   "cell_type": "code",
   "execution_count": 41,
   "metadata": {},
   "outputs": [
    {
     "data": {
      "text/plain": [
       "Team       Arouca\n",
       "Total       37383\n",
       "High         5603\n",
       "Low           640\n",
       "Average      2199\n",
       "Name: 17, dtype: object"
      ]
     },
     "execution_count": 41,
     "metadata": {},
     "output_type": "execute_result"
    }
   ],
   "source": [
    "ndf.loc[ndf['Low'].idxmin()]"
   ]
  },
  {
   "cell_type": "code",
   "execution_count": 42,
   "metadata": {},
   "outputs": [
    {
     "data": {
      "text/plain": [
       "Team       Benfica\n",
       "Total       951184\n",
       "High         64591\n",
       "Low          46256\n",
       "Average      55952\n",
       "Name: 1, dtype: object"
      ]
     },
     "execution_count": 42,
     "metadata": {},
     "output_type": "execute_result"
    }
   ],
   "source": [
    "ndf.loc[ndf['Low'].idxmax()]"
   ]
  },
  {
   "cell_type": "code",
   "execution_count": 43,
   "metadata": {
    "collapsed": true
   },
   "outputs": [],
   "source": [
    "%matplotlib inline\n",
    "import matplotlib.pyplot as plt\n",
    "import matplotlib\n",
    "#Make it nicer\n",
    "matplotlib.style.use('ggplot')"
   ]
  },
  {
   "cell_type": "code",
   "execution_count": 44,
   "metadata": {},
   "outputs": [
    {
     "data": {
      "image/png": "[encoded data removed]",
      "text/plain": [
       "<matplotlib.figure.Figure at 0x7f3ac345de50>"
      ]
     },
     "metadata": {},
     "output_type": "display_data"
    }
   ],
   "source": [
    "#ax = ndf[['Average','High','Low']].plot(x=ndf['Team'], kind='bar')\n",
    "fnt_size=16\n",
    "ax = ndf[['Average','High','Low']].plot(x=ndf['Team'], kind='bar', figsize=(15,5), fontsize=fnt_size)\n",
    "ax.set_xlabel('Teams', fontsize=fnt_size)\n",
    "ax.set_ylabel('Attendance', fontsize=fnt_size)\n",
    "plt.show()"
   ]
  },
  {
   "cell_type": "markdown",
   "metadata": {
    "collapsed": true
   },
   "source": [
    "### Extra: Seaborn as a visualization platform for pandas"
   ]
  },
  {
   "cell_type": "code",
   "execution_count": 45,
   "metadata": {
    "collapsed": true
   },
   "outputs": [],
   "source": [
    "import seaborn as sns\n",
    "import sys  \n",
    "reload(sys)  \n",
    "sys.setdefaultencoding('utf8')"
   ]
  },
  {
   "cell_type": "code",
   "execution_count": 46,
   "metadata": {},
   "outputs": [
    {
     "data": {
      "text/plain": [
       "<seaborn.axisgrid.FacetGrid at 0x7f3ac345d990>"
      ]
     },
     "execution_count": 46,
     "metadata": {},
     "output_type": "execute_result"
    },
    {
     "data": {
      "image/png": "[encoded data removed]",
      "text/plain": [
       "<matplotlib.figure.Figure at 0x7f3ac347cf90>"
      ]
     },
     "metadata": {},
     "output_type": "display_data"
    }
   ],
   "source": [
    "sns.factorplot(x='Team', y='Total', data=ndf, aspect=4, )"
   ]
  },
  {
   "cell_type": "code",
   "execution_count": null,
   "metadata": {
    "collapsed": true
   },
   "outputs": [],
   "source": []
  }
 ],
 "metadata": {
  "kernelspec": {
   "display_name": "Python 2",
   "language": "python",
   "name": "python2"
  },
  "language_info": {
   "codemirror_mode": {
    "name": "ipython",
    "version": 2
   },
   "file_extension": ".py",
   "mimetype": "text/x-python",
   "name": "python",
   "nbconvert_exporter": "python",
   "pygments_lexer": "ipython2",
   "version": "2.7.13"
  }
 },
 "nbformat": 4,
 "nbformat_minor": 2
}
