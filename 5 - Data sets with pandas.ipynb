{
 "cells": [
  {
   "cell_type": "markdown",
   "metadata": {},
   "source": [
    "# Data sets\n",
    "\n",
    "There is a lot of Documentation on this subject. Here we will breifly introduce Series and Dataframes to help research with DataBases"
   ]
  },
  {
   "cell_type": "code",
   "execution_count": 1,
   "metadata": {
    "collapsed": true
   },
   "outputs": [],
   "source": [
    "import pandas as pd\n",
    "from pandas import DataFrame\n",
    "import numpy as np"
   ]
  },
  {
   "cell_type": "markdown",
   "metadata": {},
   "source": [
    "# Series\n",
    "\n",
    "Series is a one-dimensional labeled array capable of holding any data type (integers, strings, floating point numbers, Python objects, etc.). The axis labels are collectively referred to as the index. The basic method to create a Series is to call:"
   ]
  },
  {
   "cell_type": "code",
   "execution_count": 2,
   "metadata": {},
   "outputs": [
    {
     "name": "stdout",
     "output_type": "stream",
     "text": [
      "a    0.211962\n",
      "b    0.721872\n",
      "c   -0.917796\n",
      "d    0.953977\n",
      "e   -0.372070\n",
      "dtype: float64\n"
     ]
    }
   ],
   "source": [
    "s = pd.Series(np.random.randn(5), index=['a', 'b', 'c', 'd', 'e'])\n",
    "print s"
   ]
  },
  {
   "cell_type": "code",
   "execution_count": 3,
   "metadata": {},
   "outputs": [
    {
     "data": {
      "text/plain": [
       "0.21196175211658444"
      ]
     },
     "execution_count": 3,
     "metadata": {},
     "output_type": "execute_result"
    }
   ],
   "source": [
    "s['a']"
   ]
  },
  {
   "cell_type": "code",
   "execution_count": 4,
   "metadata": {},
   "outputs": [
    {
     "data": {
      "text/plain": [
       "0.21196175211658444"
      ]
     },
     "execution_count": 4,
     "metadata": {},
     "output_type": "execute_result"
    }
   ],
   "source": [
    "s[0]"
   ]
  },
  {
   "cell_type": "code",
   "execution_count": 5,
   "metadata": {},
   "outputs": [
    {
     "data": {
      "text/plain": [
       "-2.7533876428750537"
      ]
     },
     "execution_count": 5,
     "metadata": {},
     "output_type": "execute_result"
    }
   ],
   "source": [
    "s['c']*3.0"
   ]
  },
  {
   "cell_type": "code",
   "execution_count": 6,
   "metadata": {},
   "outputs": [
    {
     "data": {
      "text/plain": [
       "a    1.236101\n",
       "b    2.058283\n",
       "c    0.399398\n",
       "d    2.596013\n",
       "e    0.689306\n",
       "dtype: float64"
      ]
     },
     "execution_count": 6,
     "metadata": {},
     "output_type": "execute_result"
    }
   ],
   "source": [
    "np.exp(s)"
   ]
  },
  {
   "cell_type": "code",
   "execution_count": 11,
   "metadata": {},
   "outputs": [
    {
     "data": {
      "text/plain": [
       "<matplotlib.axes._subplots.AxesSubplot at 0x7fb97a270710>"
      ]
     },
     "execution_count": 11,
     "metadata": {},
     "output_type": "execute_result"
    }
   ],
   "source": [
    "s.plot()"
   ]
  },
  {
   "cell_type": "code",
   "execution_count": 12,
   "metadata": {},
   "outputs": [
    {
     "data": {
      "image/png": "[encoded data removed]",
      "text/plain": [
       "<matplotlib.figure.Figure at 0x7fb97a3ac190>"
      ]
     },
     "metadata": {},
     "output_type": "display_data"
    }
   ],
   "source": [
    "import matplotlib.pyplot as plt\n",
    "plt.show()"
   ]
  },
  {
   "cell_type": "code",
   "execution_count": null,
   "metadata": {
    "collapsed": true
   },
   "outputs": [],
   "source": [
    "from IPython.display import Image\n",
    "from IPython.core.display import HTML \n",
    "Image(url= \"http://www.ipp.mpg.de/36468/zoom-1369313316.jpg\")"
   ]
  },
  {
   "cell_type": "code",
   "execution_count": null,
   "metadata": {
    "collapsed": true
   },
   "outputs": [],
   "source": [
    "from IPython.display import YouTubeVideo\n",
    "YouTubeVideo(\"QCK51vqWunU\")"
   ]
  },
  {
   "cell_type": "code",
   "execution_count": 13,
   "metadata": {},
   "outputs": [
    {
     "name": "stdout",
     "output_type": "stream",
     "text": [
      "PECRH     1000000.0\n",
      "PNBI     12000000.0\n",
      "PICRH           0.0\n",
      "POHM      1200000.0\n",
      "Name: #30554, dtype: float64\n"
     ]
    }
   ],
   "source": [
    "shot = pd.Series(np.array([1e6, 12e6, 0.0, 1.2e6]), index=['PECRH', 'PNBI', 'PICRH', 'POHM'], name='#30554')\n",
    "print shot"
   ]
  },
  {
   "cell_type": "code",
   "execution_count": null,
   "metadata": {
    "collapsed": true
   },
   "outputs": [],
   "source": [
    "np.sum(shot)"
   ]
  },
  {
   "cell_type": "code",
   "execution_count": 14,
   "metadata": {},
   "outputs": [
    {
     "name": "stdout",
     "output_type": "stream",
     "text": [
      "PECRH    2500000.0\n",
      "PNBI     6000000.0\n",
      "PICRH    3000000.0\n",
      "POHM     1000000.0\n",
      "Name: #30733, dtype: float64\n"
     ]
    }
   ],
   "source": [
    "shot2 = pd.Series(np.array([2.5e6, 6e6, 3e6, 1.0e6]), index=['PECRH', 'PNBI', 'PICRH', 'POHM'], name=\"#30733\")\n",
    "print shot2"
   ]
  },
  {
   "cell_type": "code",
   "execution_count": null,
   "metadata": {
    "collapsed": true
   },
   "outputs": [],
   "source": [
    "np.sum(shot2)"
   ]
  },
  {
   "cell_type": "code",
   "execution_count": null,
   "metadata": {
    "collapsed": true
   },
   "outputs": [],
   "source": [
    "shot + shot2"
   ]
  },
  {
   "cell_type": "code",
   "execution_count": null,
   "metadata": {
    "collapsed": true
   },
   "outputs": [],
   "source": [
    "shot['PECRH'] + shot2['PECRH']"
   ]
  },
  {
   "cell_type": "code",
   "execution_count": null,
   "metadata": {
    "collapsed": true
   },
   "outputs": [],
   "source": [
    "print \"Total heating power:\", np.sum(shot + shot2)\n",
    "print \"Total heating power:\", np.sum(shot) + np.sum(shot2)"
   ]
  },
  {
   "cell_type": "code",
   "execution_count": null,
   "metadata": {
    "collapsed": true
   },
   "outputs": [],
   "source": [
    "shot.mean()"
   ]
  },
  {
   "cell_type": "code",
   "execution_count": 20,
   "metadata": {},
   "outputs": [
    {
     "data": {
      "image/png": "[encoded data removed]",
      "text/plain": [
       "<matplotlib.figure.Figure at 0x7fb979f22710>"
      ]
     },
     "metadata": {},
     "output_type": "display_data"
    }
   ],
   "source": [
    "shot.plot()\n",
    "shot2.plot()\n",
    "plt.legend()\n",
    "plt.show()"
   ]
  },
  {
   "cell_type": "markdown",
   "metadata": {},
   "source": [
    "# Dataframes\n",
    "\n",
    "A DataFrame is a 2-dimensional labeled data structure with columns of potentially different types. You can think of it like a spreadsheet or SQL table, or a dict of Series objects. It is generally the most commonly used pandas object. Like Series, DataFrame accepts many different kinds of input:"
   ]
  },
  {
   "cell_type": "code",
   "execution_count": 21,
   "metadata": {},
   "outputs": [
    {
     "data": {
      "text/plain": [
       "True"
      ]
     },
     "execution_count": 21,
     "metadata": {},
     "output_type": "execute_result"
    }
   ],
   "source": [
    "import webbrowser\n",
    "url = 'https://en.wikipedia.org/wiki/2016%E2%80%9317_Primeira_Liga#Attendances'\n",
    "webbrowser.open(url)"
   ]
  },
  {
   "cell_type": "code",
   "execution_count": 25,
   "metadata": {
    "collapsed": true
   },
   "outputs": [],
   "source": [
    "df = pd.read_csv('Attendances.csv')\n",
    "##Get a single sheet\n",
    "#df = pd.ExcelFile('Attendances.xlsx').parse('Attendances')\n",
    "#Or read_json\n",
    "#df = pd.read_clipboard()"
   ]
  },
  {
   "cell_type": "code",
   "execution_count": 23,
   "metadata": {},
   "outputs": [
    {
     "data": {
      "text/html": [
       "<div>\n",
       "<style>\n",
       "    .dataframe thead tr:only-child th {\n",
       "        text-align: right;\n",
       "    }\n",
       "\n",
       "    .dataframe thead th {\n",
       "        text-align: left;\n",
       "    }\n",
       "\n",
       "    .dataframe tbody tr th {\n",
       "        vertical-align: top;\n",
       "    }\n",
       "</style>\n",
       "<table border=\"1\" class=\"dataframe\">\n",
       "  <thead>\n",
       "    <tr style=\"text-align: right;\">\n",
       "      <th></th>\n",
       "      <th>Pos</th>\n",
       "      <th>Team</th>\n",
       "      <th>Total</th>\n",
       "      <th>High</th>\n",
       "      <th>Low</th>\n",
       "      <th>Average</th>\n",
       "      <th>Change</th>\n",
       "    </tr>\n",
       "  </thead>\n",
       "  <tbody>\n",
       "    <tr>\n",
       "      <th>0</th>\n",
       "      <td>1</td>\n",
       "      <td>Benfica</td>\n",
       "      <td>390748</td>\n",
       "      <td>63312</td>\n",
       "      <td>51566</td>\n",
       "      <td>55821</td>\n",
       "      <td>+10.9%</td>\n",
       "    </tr>\n",
       "    <tr>\n",
       "      <th>1</th>\n",
       "      <td>2</td>\n",
       "      <td>Sporting CP</td>\n",
       "      <td>388328</td>\n",
       "      <td>49399</td>\n",
       "      <td>40027</td>\n",
       "      <td>43148</td>\n",
       "      <td>+7.9%</td>\n",
       "    </tr>\n",
       "    <tr>\n",
       "      <th>2</th>\n",
       "      <td>3</td>\n",
       "      <td>Porto</td>\n",
       "      <td>277491</td>\n",
       "      <td>50019</td>\n",
       "      <td>22208</td>\n",
       "      <td>34686</td>\n",
       "      <td>+7.3%</td>\n",
       "    </tr>\n",
       "  </tbody>\n",
       "</table>\n",
       "</div>"
      ],
      "text/plain": [
       "   Pos         Team   Total   High    Low  Average  Change\n",
       "0    1      Benfica  390748  63312  51566    55821  +10.9%\n",
       "1    2  Sporting CP  388328  49399  40027    43148   +7.9%\n",
       "2    3        Porto  277491  50019  22208    34686   +7.3%"
      ]
     },
     "execution_count": 23,
     "metadata": {},
     "output_type": "execute_result"
    }
   ],
   "source": [
    "df.head(3)"
   ]
  },
  {
   "cell_type": "code",
   "execution_count": null,
   "metadata": {
    "collapsed": true
   },
   "outputs": [],
   "source": [
    "df.tail(2)"
   ]
  },
  {
   "cell_type": "code",
   "execution_count": null,
   "metadata": {
    "collapsed": true
   },
   "outputs": [],
   "source": [
    "df"
   ]
  },
  {
   "cell_type": "code",
   "execution_count": null,
   "metadata": {
    "collapsed": true
   },
   "outputs": [],
   "source": [
    "df.loc[4]"
   ]
  },
  {
   "cell_type": "code",
   "execution_count": null,
   "metadata": {
    "collapsed": true
   },
   "outputs": [],
   "source": [
    "df[['Team','Average']]"
   ]
  },
  {
   "cell_type": "code",
   "execution_count": null,
   "metadata": {
    "collapsed": true
   },
   "outputs": [],
   "source": [
    "#How many people during a Match Day went to a game\n",
    "df['Average'].sum()"
   ]
  },
  {
   "cell_type": "markdown",
   "metadata": {},
   "source": [
    "You need to be careful and make sure your database is conviniently formatted. Here, the Portuguese convention for the thousands separator, a comma, ruined our chances of having floats or ints. No math is possible, so we must replace it in the database."
   ]
  },
  {
   "cell_type": "code",
   "execution_count": 9,
   "metadata": {
    "collapsed": true
   },
   "outputs": [],
   "source": [
    "#Fields we want to change\n",
    "df2 = df[['Total','High','Low','Average']].replace(to_replace=',', value='', regex=True).astype(int)"
   ]
  },
  {
   "cell_type": "code",
   "execution_count": null,
   "metadata": {
    "collapsed": true
   },
   "outputs": [],
   "source": [
    "df2"
   ]
  },
  {
   "cell_type": "code",
   "execution_count": null,
   "metadata": {
    "collapsed": true
   },
   "outputs": [],
   "source": [
    "df2.mean()"
   ]
  },
  {
   "cell_type": "code",
   "execution_count": 10,
   "metadata": {
    "collapsed": true
   },
   "outputs": [],
   "source": [
    "#To replace with a similar dataframe as the original\n",
    "ndf = df.copy(deep=True)\n",
    "ndf[['Total','High','Low','Average']] = df[['Total','High','Low','Average']].replace(to_replace=',', value='', regex=True).astype(int)"
   ]
  },
  {
   "cell_type": "code",
   "execution_count": 13,
   "metadata": {},
   "outputs": [
    {
     "data": {
      "text/html": [
       "<div>\n",
       "<style>\n",
       "    .dataframe thead tr:only-child th {\n",
       "        text-align: right;\n",
       "    }\n",
       "\n",
       "    .dataframe thead th {\n",
       "        text-align: left;\n",
       "    }\n",
       "\n",
       "    .dataframe tbody tr th {\n",
       "        vertical-align: top;\n",
       "    }\n",
       "</style>\n",
       "<table border=\"1\" class=\"dataframe\">\n",
       "  <thead>\n",
       "    <tr style=\"text-align: right;\">\n",
       "      <th></th>\n",
       "      <th>Pos</th>\n",
       "      <th>Team</th>\n",
       "      <th>Total</th>\n",
       "      <th>High</th>\n",
       "      <th>Low</th>\n",
       "      <th>Average</th>\n",
       "      <th>Change</th>\n",
       "    </tr>\n",
       "  </thead>\n",
       "  <tbody>\n",
       "    <tr>\n",
       "      <th>0</th>\n",
       "      <td>1</td>\n",
       "      <td>Benfica</td>\n",
       "      <td>390748</td>\n",
       "      <td>63312</td>\n",
       "      <td>51566</td>\n",
       "      <td>55821</td>\n",
       "      <td>+10.9%</td>\n",
       "    </tr>\n",
       "    <tr>\n",
       "      <th>1</th>\n",
       "      <td>2</td>\n",
       "      <td>Sporting CP</td>\n",
       "      <td>388328</td>\n",
       "      <td>49399</td>\n",
       "      <td>40027</td>\n",
       "      <td>43148</td>\n",
       "      <td>+7.9%</td>\n",
       "    </tr>\n",
       "    <tr>\n",
       "      <th>2</th>\n",
       "      <td>3</td>\n",
       "      <td>Porto</td>\n",
       "      <td>277491</td>\n",
       "      <td>50019</td>\n",
       "      <td>22208</td>\n",
       "      <td>34686</td>\n",
       "      <td>+7.3%</td>\n",
       "    </tr>\n",
       "    <tr>\n",
       "      <th>3</th>\n",
       "      <td>4</td>\n",
       "      <td>Vitória de Guimarães</td>\n",
       "      <td>140646</td>\n",
       "      <td>26985</td>\n",
       "      <td>12953</td>\n",
       "      <td>17581</td>\n",
       "      <td>+41.5%</td>\n",
       "    </tr>\n",
       "    <tr>\n",
       "      <th>4</th>\n",
       "      <td>5</td>\n",
       "      <td>Braga</td>\n",
       "      <td>73298</td>\n",
       "      <td>11328</td>\n",
       "      <td>7543</td>\n",
       "      <td>9162</td>\n",
       "      <td>−17.9%</td>\n",
       "    </tr>\n",
       "  </tbody>\n",
       "</table>\n",
       "</div>"
      ],
      "text/plain": [
       "   Pos                  Team   Total   High    Low  Average  Change\n",
       "0    1               Benfica  390748  63312  51566    55821  +10.9%\n",
       "1    2           Sporting CP  388328  49399  40027    43148   +7.9%\n",
       "2    3                 Porto  277491  50019  22208    34686   +7.3%\n",
       "3    4  Vitória de Guimarães  140646  26985  12953    17581  +41.5%\n",
       "4    5                 Braga   73298  11328   7543     9162  −17.9%"
      ]
     },
     "execution_count": 13,
     "metadata": {},
     "output_type": "execute_result"
    }
   ],
   "source": [
    "ndf.head()"
   ]
  },
  {
   "cell_type": "code",
   "execution_count": 12,
   "metadata": {},
   "outputs": [
    {
     "data": {
      "text/html": [
       "<div>\n",
       "<style>\n",
       "    .dataframe thead tr:only-child th {\n",
       "        text-align: right;\n",
       "    }\n",
       "\n",
       "    .dataframe thead th {\n",
       "        text-align: left;\n",
       "    }\n",
       "\n",
       "    .dataframe tbody tr th {\n",
       "        vertical-align: top;\n",
       "    }\n",
       "</style>\n",
       "<table border=\"1\" class=\"dataframe\">\n",
       "  <thead>\n",
       "    <tr style=\"text-align: right;\">\n",
       "      <th></th>\n",
       "      <th>Pos</th>\n",
       "      <th>Team</th>\n",
       "      <th>Total</th>\n",
       "      <th>High</th>\n",
       "      <th>Low</th>\n",
       "      <th>Average</th>\n",
       "      <th>Change</th>\n",
       "    </tr>\n",
       "  </thead>\n",
       "  <tbody>\n",
       "    <tr>\n",
       "      <th>0</th>\n",
       "      <td>1</td>\n",
       "      <td>Benfica</td>\n",
       "      <td>390748</td>\n",
       "      <td>63312</td>\n",
       "      <td>51566</td>\n",
       "      <td>55821</td>\n",
       "      <td>+10.9%</td>\n",
       "    </tr>\n",
       "    <tr>\n",
       "      <th>1</th>\n",
       "      <td>2</td>\n",
       "      <td>Sporting CP</td>\n",
       "      <td>388328</td>\n",
       "      <td>49399</td>\n",
       "      <td>40027</td>\n",
       "      <td>43148</td>\n",
       "      <td>+7.9%</td>\n",
       "    </tr>\n",
       "    <tr>\n",
       "      <th>2</th>\n",
       "      <td>3</td>\n",
       "      <td>Porto</td>\n",
       "      <td>277491</td>\n",
       "      <td>50019</td>\n",
       "      <td>22208</td>\n",
       "      <td>34686</td>\n",
       "      <td>+7.3%</td>\n",
       "    </tr>\n",
       "    <tr>\n",
       "      <th>3</th>\n",
       "      <td>4</td>\n",
       "      <td>Vitória de Guimarães</td>\n",
       "      <td>140646</td>\n",
       "      <td>26985</td>\n",
       "      <td>12953</td>\n",
       "      <td>17581</td>\n",
       "      <td>+41.5%</td>\n",
       "    </tr>\n",
       "    <tr>\n",
       "      <th>4</th>\n",
       "      <td>5</td>\n",
       "      <td>Braga</td>\n",
       "      <td>73298</td>\n",
       "      <td>11328</td>\n",
       "      <td>7543</td>\n",
       "      <td>9162</td>\n",
       "      <td>−17.9%</td>\n",
       "    </tr>\n",
       "  </tbody>\n",
       "</table>\n",
       "</div>"
      ],
      "text/plain": [
       "   Pos                  Team   Total   High    Low  Average  Change\n",
       "0    1               Benfica  390748  63312  51566    55821  +10.9%\n",
       "1    2           Sporting CP  388328  49399  40027    43148   +7.9%\n",
       "2    3                 Porto  277491  50019  22208    34686   +7.3%\n",
       "3    4  Vitória de Guimarães  140646  26985  12953    17581  +41.5%\n",
       "4    5                 Braga   73298  11328   7543     9162  −17.9%"
      ]
     },
     "execution_count": 12,
     "metadata": {},
     "output_type": "execute_result"
    }
   ],
   "source": [
    "df.head()"
   ]
  },
  {
   "cell_type": "code",
   "execution_count": 14,
   "metadata": {},
   "outputs": [
    {
     "data": {
      "text/html": [
       "<div>\n",
       "<style>\n",
       "    .dataframe thead tr:only-child th {\n",
       "        text-align: right;\n",
       "    }\n",
       "\n",
       "    .dataframe thead th {\n",
       "        text-align: left;\n",
       "    }\n",
       "\n",
       "    .dataframe tbody tr th {\n",
       "        vertical-align: top;\n",
       "    }\n",
       "</style>\n",
       "<table border=\"1\" class=\"dataframe\">\n",
       "  <thead>\n",
       "    <tr style=\"text-align: right;\">\n",
       "      <th></th>\n",
       "      <th>Pos</th>\n",
       "      <th>Team</th>\n",
       "      <th>Total</th>\n",
       "      <th>High</th>\n",
       "      <th>Low</th>\n",
       "      <th>Average</th>\n",
       "      <th>Change</th>\n",
       "    </tr>\n",
       "  </thead>\n",
       "  <tbody>\n",
       "    <tr>\n",
       "      <th>0</th>\n",
       "      <td>1</td>\n",
       "      <td>Benfica</td>\n",
       "      <td>390748</td>\n",
       "      <td>63312</td>\n",
       "      <td>51566</td>\n",
       "      <td>55821</td>\n",
       "      <td>+10.9%</td>\n",
       "    </tr>\n",
       "    <tr>\n",
       "      <th>1</th>\n",
       "      <td>2</td>\n",
       "      <td>Sporting CP</td>\n",
       "      <td>388328</td>\n",
       "      <td>49399</td>\n",
       "      <td>40027</td>\n",
       "      <td>43148</td>\n",
       "      <td>+7.9%</td>\n",
       "    </tr>\n",
       "    <tr>\n",
       "      <th>2</th>\n",
       "      <td>3</td>\n",
       "      <td>Porto</td>\n",
       "      <td>277491</td>\n",
       "      <td>50019</td>\n",
       "      <td>22208</td>\n",
       "      <td>34686</td>\n",
       "      <td>+7.3%</td>\n",
       "    </tr>\n",
       "    <tr>\n",
       "      <th>3</th>\n",
       "      <td>4</td>\n",
       "      <td>Vitória de Guimarães</td>\n",
       "      <td>140646</td>\n",
       "      <td>26985</td>\n",
       "      <td>12953</td>\n",
       "      <td>17581</td>\n",
       "      <td>+41.5%</td>\n",
       "    </tr>\n",
       "  </tbody>\n",
       "</table>\n",
       "</div>"
      ],
      "text/plain": [
       "   Pos                  Team   Total   High    Low  Average  Change\n",
       "0    1               Benfica  390748  63312  51566    55821  +10.9%\n",
       "1    2           Sporting CP  388328  49399  40027    43148   +7.9%\n",
       "2    3                 Porto  277491  50019  22208    34686   +7.3%\n",
       "3    4  Vitória de Guimarães  140646  26985  12953    17581  +41.5%"
      ]
     },
     "execution_count": 14,
     "metadata": {},
     "output_type": "execute_result"
    }
   ],
   "source": [
    "ndf[ndf['Total']>100000]"
   ]
  },
  {
   "cell_type": "code",
   "execution_count": 15,
   "metadata": {},
   "outputs": [
    {
     "data": {
      "text/html": [
       "<div>\n",
       "<style>\n",
       "    .dataframe thead tr:only-child th {\n",
       "        text-align: right;\n",
       "    }\n",
       "\n",
       "    .dataframe thead th {\n",
       "        text-align: left;\n",
       "    }\n",
       "\n",
       "    .dataframe tbody tr th {\n",
       "        vertical-align: top;\n",
       "    }\n",
       "</style>\n",
       "<table border=\"1\" class=\"dataframe\">\n",
       "  <thead>\n",
       "    <tr style=\"text-align: right;\">\n",
       "      <th></th>\n",
       "      <th>Pos</th>\n",
       "      <th>Team</th>\n",
       "      <th>Total</th>\n",
       "      <th>High</th>\n",
       "      <th>Low</th>\n",
       "      <th>Average</th>\n",
       "      <th>Change</th>\n",
       "    </tr>\n",
       "  </thead>\n",
       "  <tbody>\n",
       "    <tr>\n",
       "      <th>0</th>\n",
       "      <td>1</td>\n",
       "      <td>Benfica</td>\n",
       "      <td>390748</td>\n",
       "      <td>63312</td>\n",
       "      <td>51566</td>\n",
       "      <td>55821</td>\n",
       "      <td>+10.9%</td>\n",
       "    </tr>\n",
       "    <tr>\n",
       "      <th>2</th>\n",
       "      <td>3</td>\n",
       "      <td>Porto</td>\n",
       "      <td>277491</td>\n",
       "      <td>50019</td>\n",
       "      <td>22208</td>\n",
       "      <td>34686</td>\n",
       "      <td>+7.3%</td>\n",
       "    </tr>\n",
       "    <tr>\n",
       "      <th>1</th>\n",
       "      <td>2</td>\n",
       "      <td>Sporting CP</td>\n",
       "      <td>388328</td>\n",
       "      <td>49399</td>\n",
       "      <td>40027</td>\n",
       "      <td>43148</td>\n",
       "      <td>+7.9%</td>\n",
       "    </tr>\n",
       "    <tr>\n",
       "      <th>3</th>\n",
       "      <td>4</td>\n",
       "      <td>Vitória de Guimarães</td>\n",
       "      <td>140646</td>\n",
       "      <td>26985</td>\n",
       "      <td>12953</td>\n",
       "      <td>17581</td>\n",
       "      <td>+41.5%</td>\n",
       "    </tr>\n",
       "    <tr>\n",
       "      <th>7</th>\n",
       "      <td>8</td>\n",
       "      <td>Belenenses</td>\n",
       "      <td>34982</td>\n",
       "      <td>12236</td>\n",
       "      <td>1309</td>\n",
       "      <td>4997</td>\n",
       "      <td>+12.0%</td>\n",
       "    </tr>\n",
       "    <tr>\n",
       "      <th>4</th>\n",
       "      <td>5</td>\n",
       "      <td>Braga</td>\n",
       "      <td>73298</td>\n",
       "      <td>11328</td>\n",
       "      <td>7543</td>\n",
       "      <td>9162</td>\n",
       "      <td>−17.9%</td>\n",
       "    </tr>\n",
       "    <tr>\n",
       "      <th>5</th>\n",
       "      <td>6</td>\n",
       "      <td>Marítimo</td>\n",
       "      <td>45746</td>\n",
       "      <td>10320</td>\n",
       "      <td>4150</td>\n",
       "      <td>6535</td>\n",
       "      <td>+6.3%</td>\n",
       "    </tr>\n",
       "    <tr>\n",
       "      <th>6</th>\n",
       "      <td>7</td>\n",
       "      <td>Boavista</td>\n",
       "      <td>42070</td>\n",
       "      <td>9958</td>\n",
       "      <td>4182</td>\n",
       "      <td>5259</td>\n",
       "      <td>−13.4%</td>\n",
       "    </tr>\n",
       "    <tr>\n",
       "      <th>8</th>\n",
       "      <td>9</td>\n",
       "      <td>Rio Ave</td>\n",
       "      <td>38945</td>\n",
       "      <td>8357</td>\n",
       "      <td>2116</td>\n",
       "      <td>4327</td>\n",
       "      <td>+31.0%</td>\n",
       "    </tr>\n",
       "    <tr>\n",
       "      <th>9</th>\n",
       "      <td>10</td>\n",
       "      <td>Chaves</td>\n",
       "      <td>26852</td>\n",
       "      <td>8000</td>\n",
       "      <td>1885</td>\n",
       "      <td>3357</td>\n",
       "      <td>+22.6%1</td>\n",
       "    </tr>\n",
       "    <tr>\n",
       "      <th>14</th>\n",
       "      <td>15</td>\n",
       "      <td>Estoril</td>\n",
       "      <td>17765</td>\n",
       "      <td>7429</td>\n",
       "      <td>953</td>\n",
       "      <td>2221</td>\n",
       "      <td>−24.5%</td>\n",
       "    </tr>\n",
       "    <tr>\n",
       "      <th>11</th>\n",
       "      <td>12</td>\n",
       "      <td>Vitória de Setúbal</td>\n",
       "      <td>24464</td>\n",
       "      <td>7245</td>\n",
       "      <td>2081</td>\n",
       "      <td>3058</td>\n",
       "      <td>−31.0%</td>\n",
       "    </tr>\n",
       "    <tr>\n",
       "      <th>10</th>\n",
       "      <td>11</td>\n",
       "      <td>Paços de Ferreira</td>\n",
       "      <td>25643</td>\n",
       "      <td>6271</td>\n",
       "      <td>1384</td>\n",
       "      <td>3205</td>\n",
       "      <td>+14.4%</td>\n",
       "    </tr>\n",
       "    <tr>\n",
       "      <th>16</th>\n",
       "      <td>17</td>\n",
       "      <td>Arouca</td>\n",
       "      <td>14247</td>\n",
       "      <td>5351</td>\n",
       "      <td>740</td>\n",
       "      <td>1781</td>\n",
       "      <td>−38.2%</td>\n",
       "    </tr>\n",
       "    <tr>\n",
       "      <th>13</th>\n",
       "      <td>14</td>\n",
       "      <td>Nacional</td>\n",
       "      <td>22972</td>\n",
       "      <td>5017</td>\n",
       "      <td>1126</td>\n",
       "      <td>2552</td>\n",
       "      <td>+2.4%</td>\n",
       "    </tr>\n",
       "    <tr>\n",
       "      <th>15</th>\n",
       "      <td>16</td>\n",
       "      <td>Tondela</td>\n",
       "      <td>16985</td>\n",
       "      <td>4973</td>\n",
       "      <td>1090</td>\n",
       "      <td>2123</td>\n",
       "      <td>−36.1%</td>\n",
       "    </tr>\n",
       "    <tr>\n",
       "      <th>12</th>\n",
       "      <td>13</td>\n",
       "      <td>Feirense</td>\n",
       "      <td>20877</td>\n",
       "      <td>4635</td>\n",
       "      <td>1099</td>\n",
       "      <td>2610</td>\n",
       "      <td>+149.0%1</td>\n",
       "    </tr>\n",
       "    <tr>\n",
       "      <th>17</th>\n",
       "      <td>18</td>\n",
       "      <td>Moreirense</td>\n",
       "      <td>11394</td>\n",
       "      <td>3810</td>\n",
       "      <td>640</td>\n",
       "      <td>1424</td>\n",
       "      <td>−36.5%</td>\n",
       "    </tr>\n",
       "  </tbody>\n",
       "</table>\n",
       "</div>"
      ],
      "text/plain": [
       "    Pos                  Team   Total   High    Low  Average    Change\n",
       "0     1               Benfica  390748  63312  51566    55821    +10.9%\n",
       "2     3                 Porto  277491  50019  22208    34686     +7.3%\n",
       "1     2           Sporting CP  388328  49399  40027    43148     +7.9%\n",
       "3     4  Vitória de Guimarães  140646  26985  12953    17581    +41.5%\n",
       "7     8            Belenenses   34982  12236   1309     4997    +12.0%\n",
       "4     5                 Braga   73298  11328   7543     9162    −17.9%\n",
       "5     6              Marítimo   45746  10320   4150     6535     +6.3%\n",
       "6     7              Boavista   42070   9958   4182     5259    −13.4%\n",
       "8     9               Rio Ave   38945   8357   2116     4327    +31.0%\n",
       "9    10                Chaves   26852   8000   1885     3357   +22.6%1\n",
       "14   15               Estoril   17765   7429    953     2221    −24.5%\n",
       "11   12    Vitória de Setúbal   24464   7245   2081     3058    −31.0%\n",
       "10   11     Paços de Ferreira   25643   6271   1384     3205    +14.4%\n",
       "16   17                Arouca   14247   5351    740     1781    −38.2%\n",
       "13   14              Nacional   22972   5017   1126     2552     +2.4%\n",
       "15   16               Tondela   16985   4973   1090     2123    −36.1%\n",
       "12   13              Feirense   20877   4635   1099     2610  +149.0%1\n",
       "17   18            Moreirense   11394   3810    640     1424    −36.5%"
      ]
     },
     "execution_count": 15,
     "metadata": {},
     "output_type": "execute_result"
    }
   ],
   "source": [
    "ndf.sort_values('High', ascending=False)"
   ]
  },
  {
   "cell_type": "markdown",
   "metadata": {},
   "source": [
    "print the line where condition is met"
   ]
  },
  {
   "cell_type": "code",
   "execution_count": 16,
   "metadata": {},
   "outputs": [
    {
     "data": {
      "text/plain": [
       "Pos                18\n",
       "Team       Moreirense\n",
       "Total           11394\n",
       "High             3810\n",
       "Low               640\n",
       "Average          1424\n",
       "Change         −36.5%\n",
       "Name: 17, dtype: object"
      ]
     },
     "execution_count": 16,
     "metadata": {},
     "output_type": "execute_result"
    }
   ],
   "source": [
    "ndf.loc[ndf['Low'].idxmin()]"
   ]
  },
  {
   "cell_type": "code",
   "execution_count": null,
   "metadata": {
    "collapsed": true
   },
   "outputs": [],
   "source": [
    "ndf.loc[ndf['Low'].idxmax()]"
   ]
  },
  {
   "cell_type": "code",
   "execution_count": 30,
   "metadata": {
    "collapsed": true
   },
   "outputs": [],
   "source": [
    "%matplotlib inline\n",
    "import matplotlib.pyplot as plt\n",
    "import matplotlib\n",
    "#Make it nicer\n",
    "matplotlib.style.use('ggplot')"
   ]
  },
  {
   "cell_type": "code",
   "execution_count": 32,
   "metadata": {},
   "outputs": [
    {
     "data": {
      "image/png": "[encoded data removed]",
      "text/plain": [
       "<matplotlib.figure.Figure at 0x7fa9265df250>"
      ]
     },
     "metadata": {},
     "output_type": "display_data"
    }
   ],
   "source": [
    "#ax = ndf[['Average','High','Low']].plot(x=ndf['Team'], kind='bar')\n",
    "ax = ndf[['Average','High','Low']].plot(x=ndf['Team'], kind='bar')\n",
    "ax.set_xlabel('Teams')\n",
    "ax.set_ylabel('Attendance')\n",
    "plt.show()"
   ]
  },
  {
   "cell_type": "code",
   "execution_count": null,
   "metadata": {
    "collapsed": true
   },
   "outputs": [],
   "source": []
  }
 ],
 "metadata": {
  "kernelspec": {
   "display_name": "Python 2",
   "language": "python",
   "name": "python2"
  },
  "language_info": {
   "codemirror_mode": {
    "name": "ipython",
    "version": 2
   },
   "file_extension": ".py",
   "mimetype": "text/x-python",
   "name": "python",
   "nbconvert_exporter": "python",
   "pygments_lexer": "ipython2",
   "version": "2.7.13"
  }
 },
 "nbformat": 4,
 "nbformat_minor": 2
}
