{
 "cells": [
  {
   "cell_type": "markdown",
   "metadata": {},
   "source": [
    "# 1- Differentiation and Integration"
   ]
  },
  {
   "cell_type": "markdown",
   "metadata": {
    "collapsed": true
   },
   "source": [
    "## 1.1 - Differentiation"
   ]
  },
  {
   "cell_type": "code",
   "execution_count": null,
   "metadata": {
    "collapsed": true
   },
   "outputs": [],
   "source": [
    "%matplotlib inline\n",
    "import matplotlib.pyplot as plt\n",
    "import numpy as np"
   ]
  },
  {
   "cell_type": "code",
   "execution_count": null,
   "metadata": {
    "collapsed": true
   },
   "outputs": [],
   "source": [
    "def f(x, a, b, c, d):\n",
    "    return a * np.sin(b*x+c)+d"
   ]
  },
  {
   "cell_type": "code",
   "execution_count": null,
   "metadata": {
    "collapsed": true
   },
   "outputs": [],
   "source": [
    "a, b, c, d = 1.0, 4.0, 3.0, 1.0\n",
    "arr = (a, b, c, d)\n",
    "dstep = 0.01\n",
    "x = np.arange(-5, 5, dstep)\n",
    "y = f(x, *arr)\n",
    "plt.plot(x, y)\n",
    "plt.show()"
   ]
  },
  {
   "cell_type": "code",
   "execution_count": null,
   "metadata": {
    "collapsed": true
   },
   "outputs": [],
   "source": [
    "plt.plot(x, y, color='b')\n",
    "plt.plot(x, np.gradient(y, dstep), color='r')\n",
    "plt.show()"
   ]
  },
  {
   "cell_type": "markdown",
   "metadata": {},
   "source": [
    "### 1.2.2 - Analytic solutions"
   ]
  },
  {
   "cell_type": "code",
   "execution_count": null,
   "metadata": {
    "collapsed": true
   },
   "outputs": [],
   "source": [
    "import sympy as sp\n",
    "from scipy.misc import derivative"
   ]
  },
  {
   "cell_type": "code",
   "execution_count": null,
   "metadata": {
    "collapsed": true
   },
   "outputs": [],
   "source": [
    "x = sp.Symbol('x')"
   ]
  },
  {
   "cell_type": "code",
   "execution_count": null,
   "metadata": {
    "collapsed": true
   },
   "outputs": [],
   "source": [
    "sp.diff('3*x**2 - 2*x + 5')"
   ]
  },
  {
   "cell_type": "code",
   "execution_count": null,
   "metadata": {
    "collapsed": true
   },
   "outputs": [],
   "source": [
    "sp.diff('2*x*sin(x)**2')"
   ]
  },
  {
   "cell_type": "code",
   "execution_count": null,
   "metadata": {
    "collapsed": true
   },
   "outputs": [],
   "source": [
    "#Numerical derivative value\n",
    "def f(x):\n",
    "    return 3*x**2 - 2*x + 5"
   ]
  },
  {
   "cell_type": "code",
   "execution_count": null,
   "metadata": {
    "collapsed": true
   },
   "outputs": [],
   "source": [
    "print derivative(f, 0)"
   ]
  },
  {
   "cell_type": "markdown",
   "metadata": {
    "collapsed": true
   },
   "source": [
    "## 1.1.3 - ODEs\n",
    "\n",
    "$$ \\tau \\frac{\\mathrm{d} y}{\\mathrm{d} t} = -y + ku $$"
   ]
  },
  {
   "cell_type": "code",
   "execution_count": null,
   "metadata": {
    "collapsed": true
   },
   "outputs": [],
   "source": [
    "%matplotlib inline\n",
    "import numpy as np\n",
    "from scipy.integrate import odeint\n",
    "import matplotlib.pyplot as plt"
   ]
  },
  {
   "cell_type": "code",
   "execution_count": null,
   "metadata": {
    "collapsed": true
   },
   "outputs": [],
   "source": [
    "def firstorder(y,t):\n",
    "    tau = 5.0\n",
    "    K= 2.0\n",
    "    u = 1.0\n",
    "    dydt = (-y + K*u)/tau    \n",
    "    return dydt    "
   ]
  },
  {
   "cell_type": "code",
   "execution_count": null,
   "metadata": {
    "collapsed": true
   },
   "outputs": [],
   "source": [
    "nsteps = 50\n",
    "t = np.linspace(0,nsteps-1, nsteps)\n",
    "y = odeint(firstorder, 0.0, t)"
   ]
  },
  {
   "cell_type": "code",
   "execution_count": null,
   "metadata": {
    "collapsed": true
   },
   "outputs": [],
   "source": [
    "plt.plot(t, y, marker='o')\n",
    "plt.show()"
   ]
  },
  {
   "cell_type": "code",
   "execution_count": null,
   "metadata": {
    "collapsed": true
   },
   "outputs": [],
   "source": [
    "K = 2.0\n",
    "u = np.zeros(nsteps)\n",
    "u[4:] = 1.0\n",
    "u[20:] = -1.0\n",
    "u[30:] = 0.0\n",
    "plt.plot(t,u)"
   ]
  },
  {
   "cell_type": "code",
   "execution_count": null,
   "metadata": {
    "collapsed": true
   },
   "outputs": [],
   "source": [
    "def f_order(y,t,K,u):\n",
    "    tau = 5.0\n",
    "    dydt = (-y + K*u)/tau\n",
    "    return dydt"
   ]
  },
  {
   "cell_type": "code",
   "execution_count": null,
   "metadata": {
    "collapsed": true
   },
   "outputs": [],
   "source": [
    "ys = np.zeros(nsteps)\n",
    "y0 = 0.0\n",
    "ys[0] = y0\n",
    "for i in range(nsteps-1):\n",
    "    ts = [t[i], t[i+1]]\n",
    "    y = odeint(f_order, y0, ts, args=(K, u[i]))\n",
    "    y0 = y[1]\n",
    "    ys[i] = y0"
   ]
  },
  {
   "cell_type": "code",
   "execution_count": null,
   "metadata": {
    "collapsed": true
   },
   "outputs": [],
   "source": [
    "plt.plot(t,ys)\n",
    "plt.plot(t,u)"
   ]
  },
  {
   "cell_type": "markdown",
   "metadata": {},
   "source": [
    "## 1.2 - Integration"
   ]
  },
  {
   "cell_type": "code",
   "execution_count": 13,
   "metadata": {
    "collapsed": true
   },
   "outputs": [],
   "source": [
    "%matplotlib inline\n",
    "import matplotlib.pyplot as plt\n",
    "import numpy as np\n",
    "from scipy.integrate import quad, nquad"
   ]
  },
  {
   "cell_type": "markdown",
   "metadata": {},
   "source": [
    "Define a function:"
   ]
  },
  {
   "cell_type": "code",
   "execution_count": null,
   "metadata": {
    "collapsed": true
   },
   "outputs": [],
   "source": [
    "def f(x):\n",
    "    return x**2 - 5.0*x - 8.0"
   ]
  },
  {
   "cell_type": "code",
   "execution_count": null,
   "metadata": {
    "collapsed": true
   },
   "outputs": [],
   "source": [
    "x_min = -5.0\n",
    "x_max = 10.0\n",
    "x = np.arange(x_min, x_max, .1)"
   ]
  },
  {
   "cell_type": "markdown",
   "metadata": {},
   "source": [
    "Make the next plot step by syep to remember spectators."
   ]
  },
  {
   "cell_type": "code",
   "execution_count": null,
   "metadata": {
    "collapsed": true
   },
   "outputs": [],
   "source": [
    "ax = plt.gca()\n",
    "ax.spines['bottom'].set_position(('data',0))\n",
    "ax.spines['left'].set_position(('data',0))\n",
    "ax.spines['top'].set_color(None)\n",
    "ax.spines['right'].set_color(None)\n",
    "plt.plot(x, f(x), label='f(x)')\n",
    "plt.legend(loc='upper center')\n",
    "plt.fill_between(x, f(x), 0, where=f(x) >= 0, facecolor='blue')\n",
    "plt.fill_between(x, f(x), 0, where=f(x) <= 0, facecolor='red')\n",
    "plt.show()"
   ]
  },
  {
   "cell_type": "code",
   "execution_count": null,
   "metadata": {
    "collapsed": true
   },
   "outputs": [],
   "source": [
    "I, err = quad(f, x_min, x_max)\n",
    "print \"Integral =\", I\n",
    "print \"Error =\", err"
   ]
  },
  {
   "cell_type": "code",
   "execution_count": null,
   "metadata": {
    "collapsed": true
   },
   "outputs": [],
   "source": [
    "def g(x, a, b, c, d):\n",
    "    return a*np.exp(-b*x+c)+d"
   ]
  },
  {
   "cell_type": "code",
   "execution_count": null,
   "metadata": {
    "collapsed": true
   },
   "outputs": [],
   "source": [
    "a = 1.0\n",
    "b = 1.0\n",
    "c = -3.0\n",
    "d = 0.0\n",
    "ax = plt.gca()\n",
    "ax.spines['bottom'].set_position(('data',0))\n",
    "ax.spines['left'].set_position(('data',0))\n",
    "ax.spines['top'].set_color(None)\n",
    "ax.spines['right'].set_color(None)\n",
    "plt.plot(x, g(x, a, b, c, d), label='g(x)')\n",
    "plt.legend()\n",
    "plt.show()"
   ]
  },
  {
   "cell_type": "code",
   "execution_count": null,
   "metadata": {
    "collapsed": true
   },
   "outputs": [],
   "source": [
    "a = 1.0\n",
    "b = 1.0\n",
    "c = -3.0\n",
    "d = 0.0\n",
    "#Tupple with the function arguments\n",
    "arr = (a, b, c, d)\n",
    "#Start plotting\n",
    "ax = plt.gca()\n",
    "ax.spines['bottom'].set_position(('data',0))\n",
    "ax.spines['left'].set_position(('data',0))\n",
    "ax.spines['top'].set_color(None)\n",
    "ax.spines['right'].set_color(None)\n",
    "plt.plot(x, g(x, *arr), label='g(x)')\n",
    "plt.legend()\n",
    "plt.show()"
   ]
  },
  {
   "cell_type": "code",
   "execution_count": null,
   "metadata": {
    "collapsed": true
   },
   "outputs": [],
   "source": [
    "I, err = quad(g, x_min, x_max, args=arr)\n",
    "print \"Integral =\", I\n",
    "print \"Error =\", err"
   ]
  },
  {
   "cell_type": "markdown",
   "metadata": {},
   "source": [
    "Comparing the same function, but with different arguments:"
   ]
  },
  {
   "cell_type": "code",
   "execution_count": null,
   "metadata": {
    "collapsed": true
   },
   "outputs": [],
   "source": [
    "arr1 = (1.0, 1.0, -3.0, -0.5)\n",
    "arr2 = (1.0, 1.0, -3.0, 0.0)"
   ]
  },
  {
   "cell_type": "code",
   "execution_count": null,
   "metadata": {
    "collapsed": true
   },
   "outputs": [],
   "source": [
    "ax = plt.gca()\n",
    "ax.spines['bottom'].set_position(('data',0))\n",
    "ax.spines['left'].set_position(('data',0))\n",
    "ax.spines['top'].set_color(None)\n",
    "ax.spines['right'].set_color(None)\n",
    "plt.plot(x, g(x, *arr1))\n",
    "plt.plot(x, g(x, *arr2))\n",
    "plt.show()"
   ]
  },
  {
   "cell_type": "code",
   "execution_count": null,
   "metadata": {
    "collapsed": true
   },
   "outputs": [],
   "source": [
    "I, err = quad(g, x_min, x_max, args=arr1)\n",
    "print \"Integral =\", I\n",
    "print \"Error =\", err"
   ]
  },
  {
   "cell_type": "code",
   "execution_count": null,
   "metadata": {
    "collapsed": true
   },
   "outputs": [],
   "source": [
    "I, err = quad(g, x_min, x_max, args=arr2)\n",
    "print \"Integral =\", I\n",
    "print \"Error =\", err"
   ]
  },
  {
   "cell_type": "markdown",
   "metadata": {},
   "source": [
    "## 2-D Integration\n",
    "\n",
    "Now for a 2-D case:"
   ]
  },
  {
   "cell_type": "code",
   "execution_count": 4,
   "metadata": {
    "collapsed": true
   },
   "outputs": [],
   "source": [
    "def z(x, y):\n",
    "    return np.cos(x)+np.sin(y)"
   ]
  },
  {
   "cell_type": "code",
   "execution_count": 5,
   "metadata": {
    "collapsed": true
   },
   "outputs": [],
   "source": [
    "x = np.arange(-3,3,.05)\n",
    "y = np.arange(-3,3,.05)"
   ]
  },
  {
   "cell_type": "code",
   "execution_count": 6,
   "metadata": {},
   "outputs": [
    {
     "name": "stdout",
     "output_type": "stream",
     "text": [
      "[ -3.00000000e+00  -2.95000000e+00  -2.90000000e+00  -2.85000000e+00\n",
      "  -2.80000000e+00  -2.75000000e+00  -2.70000000e+00  -2.65000000e+00\n",
      "  -2.60000000e+00  -2.55000000e+00  -2.50000000e+00  -2.45000000e+00\n",
      "  -2.40000000e+00  -2.35000000e+00  -2.30000000e+00  -2.25000000e+00\n",
      "  -2.20000000e+00  -2.15000000e+00  -2.10000000e+00  -2.05000000e+00\n",
      "  -2.00000000e+00  -1.95000000e+00  -1.90000000e+00  -1.85000000e+00\n",
      "  -1.80000000e+00  -1.75000000e+00  -1.70000000e+00  -1.65000000e+00\n",
      "  -1.60000000e+00  -1.55000000e+00  -1.50000000e+00  -1.45000000e+00\n",
      "  -1.40000000e+00  -1.35000000e+00  -1.30000000e+00  -1.25000000e+00\n",
      "  -1.20000000e+00  -1.15000000e+00  -1.10000000e+00  -1.05000000e+00\n",
      "  -1.00000000e+00  -9.50000000e-01  -9.00000000e-01  -8.50000000e-01\n",
      "  -8.00000000e-01  -7.50000000e-01  -7.00000000e-01  -6.50000000e-01\n",
      "  -6.00000000e-01  -5.50000000e-01  -5.00000000e-01  -4.50000000e-01\n",
      "  -4.00000000e-01  -3.50000000e-01  -3.00000000e-01  -2.50000000e-01\n",
      "  -2.00000000e-01  -1.50000000e-01  -1.00000000e-01  -5.00000000e-02\n",
      "  -1.06581410e-14   5.00000000e-02   1.00000000e-01   1.50000000e-01\n",
      "   2.00000000e-01   2.50000000e-01   3.00000000e-01   3.50000000e-01\n",
      "   4.00000000e-01   4.50000000e-01   5.00000000e-01   5.50000000e-01\n",
      "   6.00000000e-01   6.50000000e-01   7.00000000e-01   7.50000000e-01\n",
      "   8.00000000e-01   8.50000000e-01   9.00000000e-01   9.50000000e-01\n",
      "   1.00000000e+00   1.05000000e+00   1.10000000e+00   1.15000000e+00\n",
      "   1.20000000e+00   1.25000000e+00   1.30000000e+00   1.35000000e+00\n",
      "   1.40000000e+00   1.45000000e+00   1.50000000e+00   1.55000000e+00\n",
      "   1.60000000e+00   1.65000000e+00   1.70000000e+00   1.75000000e+00\n",
      "   1.80000000e+00   1.85000000e+00   1.90000000e+00   1.95000000e+00\n",
      "   2.00000000e+00   2.05000000e+00   2.10000000e+00   2.15000000e+00\n",
      "   2.20000000e+00   2.25000000e+00   2.30000000e+00   2.35000000e+00\n",
      "   2.40000000e+00   2.45000000e+00   2.50000000e+00   2.55000000e+00\n",
      "   2.60000000e+00   2.65000000e+00   2.70000000e+00   2.75000000e+00\n",
      "   2.80000000e+00   2.85000000e+00   2.90000000e+00   2.95000000e+00]\n"
     ]
    }
   ],
   "source": [
    "print x"
   ]
  },
  {
   "cell_type": "code",
   "execution_count": 7,
   "metadata": {},
   "outputs": [
    {
     "data": {
      "text/plain": [
       "array([[-3.  , -2.95, -2.9 , ...,  2.85,  2.9 ,  2.95],\n",
       "       [-3.  , -2.95, -2.9 , ...,  2.85,  2.9 ,  2.95],\n",
       "       [-3.  , -2.95, -2.9 , ...,  2.85,  2.9 ,  2.95],\n",
       "       ..., \n",
       "       [-3.  , -2.95, -2.9 , ...,  2.85,  2.9 ,  2.95],\n",
       "       [-3.  , -2.95, -2.9 , ...,  2.85,  2.9 ,  2.95],\n",
       "       [-3.  , -2.95, -2.9 , ...,  2.85,  2.9 ,  2.95]])"
      ]
     },
     "execution_count": 7,
     "metadata": {},
     "output_type": "execute_result"
    }
   ],
   "source": [
    "X, Y = np.meshgrid(x, y)\n",
    "X"
   ]
  },
  {
   "cell_type": "code",
   "execution_count": 8,
   "metadata": {},
   "outputs": [
    {
     "data": {
      "image/png": "[encoded data removed]",
      "text/plain": [
       "<matplotlib.figure.Figure at 0x7f79135a4450>"
      ]
     },
     "metadata": {},
     "output_type": "display_data"
    }
   ],
   "source": [
    "plt.pcolor(X, Y, z(X, Y), cmap='jet')\n",
    "plt.colorbar()\n",
    "plt.show()"
   ]
  },
  {
   "cell_type": "markdown",
   "metadata": {},
   "source": [
    "Put this example in 3D"
   ]
  },
  {
   "cell_type": "code",
   "execution_count": 11,
   "metadata": {},
   "outputs": [
    {
     "data": {
      "application/javascript": [
       "/* Put everything inside the global mpl namespace */\n",
       "window.mpl = {};\n",
       "\n",
       "\n",
       "mpl.get_websocket_type = function() {\n",
       "    if (typeof(WebSocket) !== 'undefined') {\n",
       "        return WebSocket;\n",
       "    } else if (typeof(MozWebSocket) !== 'undefined') {\n",
       "        return MozWebSocket;\n",
       "    } else {\n",
       "        alert('Your browser does not have WebSocket support.' +\n",
       "              'Please try Chrome, Safari or Firefox ≥ 6. ' +\n",
       "              'Firefox 4 and 5 are also supported but you ' +\n",
       "              'have to enable WebSockets in about:config.');\n",
       "    };\n",
       "}\n",
       "\n",
       "mpl.figure = function(figure_id, websocket, ondownload, parent_element) {\n",
       "    this.id = figure_id;\n",
       "\n",
       "    this.ws = websocket;\n",
       "\n",
       "    this.supports_binary = (this.ws.binaryType != undefined);\n",
       "\n",
       "    if (!this.supports_binary) {\n",
       "        var warnings = document.getElementById(\"mpl-warnings\");\n",
       "        if (warnings) {\n",
       "            warnings.style.display = 'block';\n",
       "            warnings.textContent = (\n",
       "                \"This browser does not support binary websocket messages. \" +\n",
       "                    \"Performance may be slow.\");\n",
       "        }\n",
       "    }\n",
       "\n",
       "    this.imageObj = new Image();\n",
       "\n",
       "    this.context = undefined;\n",
       "    this.message = undefined;\n",
       "    this.canvas = undefined;\n",
       "    this.rubberband_canvas = undefined;\n",
       "    this.rubberband_context = undefined;\n",
       "    this.format_dropdown = undefined;\n",
       "\n",
       "    this.image_mode = 'full';\n",
       "\n",
       "    this.root = $('<div/>');\n",
       "    this._root_extra_style(this.root)\n",
       "    this.root.attr('style', 'display: inline-block');\n",
       "\n",
       "    $(parent_element).append(this.root);\n",
       "\n",
       "    this._init_header(this);\n",
       "    this._init_canvas(this);\n",
       "    this._init_toolbar(this);\n",
       "\n",
       "    var fig = this;\n",
       "\n",
       "    this.waiting = false;\n",
       "\n",
       "    this.ws.onopen =  function () {\n",
       "            fig.send_message(\"supports_binary\", {value: fig.supports_binary});\n",
       "            fig.send_message(\"send_image_mode\", {});\n",
       "            if (mpl.ratio != 1) {\n",
       "                fig.send_message(\"set_dpi_ratio\", {'dpi_ratio': mpl.ratio});\n",
       "            }\n",
       "            fig.send_message(\"refresh\", {});\n",
       "        }\n",
       "\n",
       "    this.imageObj.onload = function() {\n",
       "            if (fig.image_mode == 'full') {\n",
       "                // Full images could contain transparency (where diff images\n",
       "                // almost always do), so we need to clear the canvas so that\n",
       "                // there is no ghosting.\n",
       "                fig.context.clearRect(0, 0, fig.canvas.width, fig.canvas.height);\n",
       "            }\n",
       "            fig.context.drawImage(fig.imageObj, 0, 0);\n",
       "        };\n",
       "\n",
       "    this.imageObj.onunload = function() {\n",
       "        this.ws.close();\n",
       "    }\n",
       "\n",
       "    this.ws.onmessage = this._make_on_message_function(this);\n",
       "\n",
       "    this.ondownload = ondownload;\n",
       "}\n",
       "\n",
       "mpl.figure.prototype._init_header = function() {\n",
       "    var titlebar = $(\n",
       "        '<div class=\"ui-dialog-titlebar ui-widget-header ui-corner-all ' +\n",
       "        'ui-helper-clearfix\"/>');\n",
       "    var titletext = $(\n",
       "        '<div class=\"ui-dialog-title\" style=\"width: 100%; ' +\n",
       "        'text-align: center; padding: 3px;\"/>');\n",
       "    titlebar.append(titletext)\n",
       "    this.root.append(titlebar);\n",
       "    this.header = titletext[0];\n",
       "}\n",
       "\n",
       "\n",
       "\n",
       "mpl.figure.prototype._canvas_extra_style = function(canvas_div) {\n",
       "\n",
       "}\n",
       "\n",
       "\n",
       "mpl.figure.prototype._root_extra_style = function(canvas_div) {\n",
       "\n",
       "}\n",
       "\n",
       "mpl.figure.prototype._init_canvas = function() {\n",
       "    var fig = this;\n",
       "\n",
       "    var canvas_div = $('<div/>');\n",
       "\n",
       "    canvas_div.attr('style', 'position: relative; clear: both; outline: 0');\n",
       "\n",
       "    function canvas_keyboard_event(event) {\n",
       "        return fig.key_event(event, event['data']);\n",
       "    }\n",
       "\n",
       "    canvas_div.keydown('key_press', canvas_keyboard_event);\n",
       "    canvas_div.keyup('key_release', canvas_keyboard_event);\n",
       "    this.canvas_div = canvas_div\n",
       "    this._canvas_extra_style(canvas_div)\n",
       "    this.root.append(canvas_div);\n",
       "\n",
       "    var canvas = $('<canvas/>');\n",
       "    canvas.addClass('mpl-canvas');\n",
       "    canvas.attr('style', \"left: 0; top: 0; z-index: 0; outline: 0\")\n",
       "\n",
       "    this.canvas = canvas[0];\n",
       "    this.context = canvas[0].getContext(\"2d\");\n",
       "\n",
       "    var backingStore = this.context.backingStorePixelRatio ||\n",
       "\tthis.context.webkitBackingStorePixelRatio ||\n",
       "\tthis.context.mozBackingStorePixelRatio ||\n",
       "\tthis.context.msBackingStorePixelRatio ||\n",
       "\tthis.context.oBackingStorePixelRatio ||\n",
       "\tthis.context.backingStorePixelRatio || 1;\n",
       "\n",
       "    mpl.ratio = (window.devicePixelRatio || 1) / backingStore;\n",
       "\n",
       "    var rubberband = $('<canvas/>');\n",
       "    rubberband.attr('style', \"position: absolute; left: 0; top: 0; z-index: 1;\")\n",
       "\n",
       "    var pass_mouse_events = true;\n",
       "\n",
       "    canvas_div.resizable({\n",
       "        start: function(event, ui) {\n",
       "            pass_mouse_events = false;\n",
       "        },\n",
       "        resize: function(event, ui) {\n",
       "            fig.request_resize(ui.size.width, ui.size.height);\n",
       "        },\n",
       "        stop: function(event, ui) {\n",
       "            pass_mouse_events = true;\n",
       "            fig.request_resize(ui.size.width, ui.size.height);\n",
       "        },\n",
       "    });\n",
       "\n",
       "    function mouse_event_fn(event) {\n",
       "        if (pass_mouse_events)\n",
       "            return fig.mouse_event(event, event['data']);\n",
       "    }\n",
       "\n",
       "    rubberband.mousedown('button_press', mouse_event_fn);\n",
       "    rubberband.mouseup('button_release', mouse_event_fn);\n",
       "    // Throttle sequential mouse events to 1 every 20ms.\n",
       "    rubberband.mousemove('motion_notify', mouse_event_fn);\n",
       "\n",
       "    rubberband.mouseenter('figure_enter', mouse_event_fn);\n",
       "    rubberband.mouseleave('figure_leave', mouse_event_fn);\n",
       "\n",
       "    canvas_div.on(\"wheel\", function (event) {\n",
       "        event = event.originalEvent;\n",
       "        event['data'] = 'scroll'\n",
       "        if (event.deltaY < 0) {\n",
       "            event.step = 1;\n",
       "        } else {\n",
       "            event.step = -1;\n",
       "        }\n",
       "        mouse_event_fn(event);\n",
       "    });\n",
       "\n",
       "    canvas_div.append(canvas);\n",
       "    canvas_div.append(rubberband);\n",
       "\n",
       "    this.rubberband = rubberband;\n",
       "    this.rubberband_canvas = rubberband[0];\n",
       "    this.rubberband_context = rubberband[0].getContext(\"2d\");\n",
       "    this.rubberband_context.strokeStyle = \"#000000\";\n",
       "\n",
       "    this._resize_canvas = function(width, height) {\n",
       "        // Keep the size of the canvas, canvas container, and rubber band\n",
       "        // canvas in synch.\n",
       "        canvas_div.css('width', width)\n",
       "        canvas_div.css('height', height)\n",
       "\n",
       "        canvas.attr('width', width * mpl.ratio);\n",
       "        canvas.attr('height', height * mpl.ratio);\n",
       "        canvas.attr('style', 'width: ' + width + 'px; height: ' + height + 'px;');\n",
       "\n",
       "        rubberband.attr('width', width);\n",
       "        rubberband.attr('height', height);\n",
       "    }\n",
       "\n",
       "    // Set the figure to an initial 600x600px, this will subsequently be updated\n",
       "    // upon first draw.\n",
       "    this._resize_canvas(600, 600);\n",
       "\n",
       "    // Disable right mouse context menu.\n",
       "    $(this.rubberband_canvas).bind(\"contextmenu\",function(e){\n",
       "        return false;\n",
       "    });\n",
       "\n",
       "    function set_focus () {\n",
       "        canvas.focus();\n",
       "        canvas_div.focus();\n",
       "    }\n",
       "\n",
       "    window.setTimeout(set_focus, 100);\n",
       "}\n",
       "\n",
       "mpl.figure.prototype._init_toolbar = function() {\n",
       "    var fig = this;\n",
       "\n",
       "    var nav_element = $('<div/>')\n",
       "    nav_element.attr('style', 'width: 100%');\n",
       "    this.root.append(nav_element);\n",
       "\n",
       "    // Define a callback function for later on.\n",
       "    function toolbar_event(event) {\n",
       "        return fig.toolbar_button_onclick(event['data']);\n",
       "    }\n",
       "    function toolbar_mouse_event(event) {\n",
       "        return fig.toolbar_button_onmouseover(event['data']);\n",
       "    }\n",
       "\n",
       "    for(var toolbar_ind in mpl.toolbar_items) {\n",
       "        var name = mpl.toolbar_items[toolbar_ind][0];\n",
       "        var tooltip = mpl.toolbar_items[toolbar_ind][1];\n",
       "        var image = mpl.toolbar_items[toolbar_ind][2];\n",
       "        var method_name = mpl.toolbar_items[toolbar_ind][3];\n",
       "\n",
       "        if (!name) {\n",
       "            // put a spacer in here.\n",
       "            continue;\n",
       "        }\n",
       "        var button = $('<button/>');\n",
       "        button.addClass('ui-button ui-widget ui-state-default ui-corner-all ' +\n",
       "                        'ui-button-icon-only');\n",
       "        button.attr('role', 'button');\n",
       "        button.attr('aria-disabled', 'false');\n",
       "        button.click(method_name, toolbar_event);\n",
       "        button.mouseover(tooltip, toolbar_mouse_event);\n",
       "\n",
       "        var icon_img = $('<span/>');\n",
       "        icon_img.addClass('ui-button-icon-primary ui-icon');\n",
       "        icon_img.addClass(image);\n",
       "        icon_img.addClass('ui-corner-all');\n",
       "\n",
       "        var tooltip_span = $('<span/>');\n",
       "        tooltip_span.addClass('ui-button-text');\n",
       "        tooltip_span.html(tooltip);\n",
       "\n",
       "        button.append(icon_img);\n",
       "        button.append(tooltip_span);\n",
       "\n",
       "        nav_element.append(button);\n",
       "    }\n",
       "\n",
       "    var fmt_picker_span = $('<span/>');\n",
       "\n",
       "    var fmt_picker = $('<select/>');\n",
       "    fmt_picker.addClass('mpl-toolbar-option ui-widget ui-widget-content');\n",
       "    fmt_picker_span.append(fmt_picker);\n",
       "    nav_element.append(fmt_picker_span);\n",
       "    this.format_dropdown = fmt_picker[0];\n",
       "\n",
       "    for (var ind in mpl.extensions) {\n",
       "        var fmt = mpl.extensions[ind];\n",
       "        var option = $(\n",
       "            '<option/>', {selected: fmt === mpl.default_extension}).html(fmt);\n",
       "        fmt_picker.append(option)\n",
       "    }\n",
       "\n",
       "    // Add hover states to the ui-buttons\n",
       "    $( \".ui-button\" ).hover(\n",
       "        function() { $(this).addClass(\"ui-state-hover\");},\n",
       "        function() { $(this).removeClass(\"ui-state-hover\");}\n",
       "    );\n",
       "\n",
       "    var status_bar = $('<span class=\"mpl-message\"/>');\n",
       "    nav_element.append(status_bar);\n",
       "    this.message = status_bar[0];\n",
       "}\n",
       "\n",
       "mpl.figure.prototype.request_resize = function(x_pixels, y_pixels) {\n",
       "    // Request matplotlib to resize the figure. Matplotlib will then trigger a resize in the client,\n",
       "    // which will in turn request a refresh of the image.\n",
       "    this.send_message('resize', {'width': x_pixels, 'height': y_pixels});\n",
       "}\n",
       "\n",
       "mpl.figure.prototype.send_message = function(type, properties) {\n",
       "    properties['type'] = type;\n",
       "    properties['figure_id'] = this.id;\n",
       "    this.ws.send(JSON.stringify(properties));\n",
       "}\n",
       "\n",
       "mpl.figure.prototype.send_draw_message = function() {\n",
       "    if (!this.waiting) {\n",
       "        this.waiting = true;\n",
       "        this.ws.send(JSON.stringify({type: \"draw\", figure_id: this.id}));\n",
       "    }\n",
       "}\n",
       "\n",
       "\n",
       "mpl.figure.prototype.handle_save = function(fig, msg) {\n",
       "    var format_dropdown = fig.format_dropdown;\n",
       "    var format = format_dropdown.options[format_dropdown.selectedIndex].value;\n",
       "    fig.ondownload(fig, format);\n",
       "}\n",
       "\n",
       "\n",
       "mpl.figure.prototype.handle_resize = function(fig, msg) {\n",
       "    var size = msg['size'];\n",
       "    if (size[0] != fig.canvas.width || size[1] != fig.canvas.height) {\n",
       "        fig._resize_canvas(size[0], size[1]);\n",
       "        fig.send_message(\"refresh\", {});\n",
       "    };\n",
       "}\n",
       "\n",
       "mpl.figure.prototype.handle_rubberband = function(fig, msg) {\n",
       "    var x0 = msg['x0'] / mpl.ratio;\n",
       "    var y0 = (fig.canvas.height - msg['y0']) / mpl.ratio;\n",
       "    var x1 = msg['x1'] / mpl.ratio;\n",
       "    var y1 = (fig.canvas.height - msg['y1']) / mpl.ratio;\n",
       "    x0 = Math.floor(x0) + 0.5;\n",
       "    y0 = Math.floor(y0) + 0.5;\n",
       "    x1 = Math.floor(x1) + 0.5;\n",
       "    y1 = Math.floor(y1) + 0.5;\n",
       "    var min_x = Math.min(x0, x1);\n",
       "    var min_y = Math.min(y0, y1);\n",
       "    var width = Math.abs(x1 - x0);\n",
       "    var height = Math.abs(y1 - y0);\n",
       "\n",
       "    fig.rubberband_context.clearRect(\n",
       "        0, 0, fig.canvas.width, fig.canvas.height);\n",
       "\n",
       "    fig.rubberband_context.strokeRect(min_x, min_y, width, height);\n",
       "}\n",
       "\n",
       "mpl.figure.prototype.handle_figure_label = function(fig, msg) {\n",
       "    // Updates the figure title.\n",
       "    fig.header.textContent = msg['label'];\n",
       "}\n",
       "\n",
       "mpl.figure.prototype.handle_cursor = function(fig, msg) {\n",
       "    var cursor = msg['cursor'];\n",
       "    switch(cursor)\n",
       "    {\n",
       "    case 0:\n",
       "        cursor = 'pointer';\n",
       "        break;\n",
       "    case 1:\n",
       "        cursor = 'default';\n",
       "        break;\n",
       "    case 2:\n",
       "        cursor = 'crosshair';\n",
       "        break;\n",
       "    case 3:\n",
       "        cursor = 'move';\n",
       "        break;\n",
       "    }\n",
       "    fig.rubberband_canvas.style.cursor = cursor;\n",
       "}\n",
       "\n",
       "mpl.figure.prototype.handle_message = function(fig, msg) {\n",
       "    fig.message.textContent = msg['message'];\n",
       "}\n",
       "\n",
       "mpl.figure.prototype.handle_draw = function(fig, msg) {\n",
       "    // Request the server to send over a new figure.\n",
       "    fig.send_draw_message();\n",
       "}\n",
       "\n",
       "mpl.figure.prototype.handle_image_mode = function(fig, msg) {\n",
       "    fig.image_mode = msg['mode'];\n",
       "}\n",
       "\n",
       "mpl.figure.prototype.updated_canvas_event = function() {\n",
       "    // Called whenever the canvas gets updated.\n",
       "    this.send_message(\"ack\", {});\n",
       "}\n",
       "\n",
       "// A function to construct a web socket function for onmessage handling.\n",
       "// Called in the figure constructor.\n",
       "mpl.figure.prototype._make_on_message_function = function(fig) {\n",
       "    return function socket_on_message(evt) {\n",
       "        if (evt.data instanceof Blob) {\n",
       "            /* FIXME: We get \"Resource interpreted as Image but\n",
       "             * transferred with MIME type text/plain:\" errors on\n",
       "             * Chrome.  But how to set the MIME type?  It doesn't seem\n",
       "             * to be part of the websocket stream */\n",
       "            evt.data.type = \"image/png\";\n",
       "\n",
       "            /* Free the memory for the previous frames */\n",
       "            if (fig.imageObj.src) {\n",
       "                (window.URL || window.webkitURL).revokeObjectURL(\n",
       "                    fig.imageObj.src);\n",
       "            }\n",
       "\n",
       "            fig.imageObj.src = (window.URL || window.webkitURL).createObjectURL(\n",
       "                evt.data);\n",
       "            fig.updated_canvas_event();\n",
       "            fig.waiting = false;\n",
       "            return;\n",
       "        }\n",
       "        else if (typeof evt.data === 'string' && evt.data.slice(0, 21) == \"data:image/png;base64\") {\n",
       "            fig.imageObj.src = evt.data;\n",
       "            fig.updated_canvas_event();\n",
       "            fig.waiting = false;\n",
       "            return;\n",
       "        }\n",
       "\n",
       "        var msg = JSON.parse(evt.data);\n",
       "        var msg_type = msg['type'];\n",
       "\n",
       "        // Call the  \"handle_{type}\" callback, which takes\n",
       "        // the figure and JSON message as its only arguments.\n",
       "        try {\n",
       "            var callback = fig[\"handle_\" + msg_type];\n",
       "        } catch (e) {\n",
       "            console.log(\"No handler for the '\" + msg_type + \"' message type: \", msg);\n",
       "            return;\n",
       "        }\n",
       "\n",
       "        if (callback) {\n",
       "            try {\n",
       "                // console.log(\"Handling '\" + msg_type + \"' message: \", msg);\n",
       "                callback(fig, msg);\n",
       "            } catch (e) {\n",
       "                console.log(\"Exception inside the 'handler_\" + msg_type + \"' callback:\", e, e.stack, msg);\n",
       "            }\n",
       "        }\n",
       "    };\n",
       "}\n",
       "\n",
       "// from http://stackoverflow.com/questions/1114465/getting-mouse-location-in-canvas\n",
       "mpl.findpos = function(e) {\n",
       "    //this section is from http://www.quirksmode.org/js/events_properties.html\n",
       "    var targ;\n",
       "    if (!e)\n",
       "        e = window.event;\n",
       "    if (e.target)\n",
       "        targ = e.target;\n",
       "    else if (e.srcElement)\n",
       "        targ = e.srcElement;\n",
       "    if (targ.nodeType == 3) // defeat Safari bug\n",
       "        targ = targ.parentNode;\n",
       "\n",
       "    // jQuery normalizes the pageX and pageY\n",
       "    // pageX,Y are the mouse positions relative to the document\n",
       "    // offset() returns the position of the element relative to the document\n",
       "    var x = e.pageX - $(targ).offset().left;\n",
       "    var y = e.pageY - $(targ).offset().top;\n",
       "\n",
       "    return {\"x\": x, \"y\": y};\n",
       "};\n",
       "\n",
       "/*\n",
       " * return a copy of an object with only non-object keys\n",
       " * we need this to avoid circular references\n",
       " * http://stackoverflow.com/a/24161582/3208463\n",
       " */\n",
       "function simpleKeys (original) {\n",
       "  return Object.keys(original).reduce(function (obj, key) {\n",
       "    if (typeof original[key] !== 'object')\n",
       "        obj[key] = original[key]\n",
       "    return obj;\n",
       "  }, {});\n",
       "}\n",
       "\n",
       "mpl.figure.prototype.mouse_event = function(event, name) {\n",
       "    var canvas_pos = mpl.findpos(event)\n",
       "\n",
       "    if (name === 'button_press')\n",
       "    {\n",
       "        this.canvas.focus();\n",
       "        this.canvas_div.focus();\n",
       "    }\n",
       "\n",
       "    var x = canvas_pos.x * mpl.ratio;\n",
       "    var y = canvas_pos.y * mpl.ratio;\n",
       "\n",
       "    this.send_message(name, {x: x, y: y, button: event.button,\n",
       "                             step: event.step,\n",
       "                             guiEvent: simpleKeys(event)});\n",
       "\n",
       "    /* This prevents the web browser from automatically changing to\n",
       "     * the text insertion cursor when the button is pressed.  We want\n",
       "     * to control all of the cursor setting manually through the\n",
       "     * 'cursor' event from matplotlib */\n",
       "    event.preventDefault();\n",
       "    return false;\n",
       "}\n",
       "\n",
       "mpl.figure.prototype._key_event_extra = function(event, name) {\n",
       "    // Handle any extra behaviour associated with a key event\n",
       "}\n",
       "\n",
       "mpl.figure.prototype.key_event = function(event, name) {\n",
       "\n",
       "    // Prevent repeat events\n",
       "    if (name == 'key_press')\n",
       "    {\n",
       "        if (event.which === this._key)\n",
       "            return;\n",
       "        else\n",
       "            this._key = event.which;\n",
       "    }\n",
       "    if (name == 'key_release')\n",
       "        this._key = null;\n",
       "\n",
       "    var value = '';\n",
       "    if (event.ctrlKey && event.which != 17)\n",
       "        value += \"ctrl+\";\n",
       "    if (event.altKey && event.which != 18)\n",
       "        value += \"alt+\";\n",
       "    if (event.shiftKey && event.which != 16)\n",
       "        value += \"shift+\";\n",
       "\n",
       "    value += 'k';\n",
       "    value += event.which.toString();\n",
       "\n",
       "    this._key_event_extra(event, name);\n",
       "\n",
       "    this.send_message(name, {key: value,\n",
       "                             guiEvent: simpleKeys(event)});\n",
       "    return false;\n",
       "}\n",
       "\n",
       "mpl.figure.prototype.toolbar_button_onclick = function(name) {\n",
       "    if (name == 'download') {\n",
       "        this.handle_save(this, null);\n",
       "    } else {\n",
       "        this.send_message(\"toolbar_button\", {name: name});\n",
       "    }\n",
       "};\n",
       "\n",
       "mpl.figure.prototype.toolbar_button_onmouseover = function(tooltip) {\n",
       "    this.message.textContent = tooltip;\n",
       "};\n",
       "mpl.toolbar_items = [[\"Home\", \"Reset original view\", \"fa fa-home icon-home\", \"home\"], [\"Back\", \"Back to  previous view\", \"fa fa-arrow-left icon-arrow-left\", \"back\"], [\"Forward\", \"Forward to next view\", \"fa fa-arrow-right icon-arrow-right\", \"forward\"], [\"\", \"\", \"\", \"\"], [\"Pan\", \"Pan axes with left mouse, zoom with right\", \"fa fa-arrows icon-move\", \"pan\"], [\"Zoom\", \"Zoom to rectangle\", \"fa fa-square-o icon-check-empty\", \"zoom\"], [\"\", \"\", \"\", \"\"], [\"Download\", \"Download plot\", \"fa fa-floppy-o icon-save\", \"download\"]];\n",
       "\n",
       "mpl.extensions = [\"eps\", \"jpeg\", \"pdf\", \"png\", \"ps\", \"raw\", \"svg\", \"tif\"];\n",
       "\n",
       "mpl.default_extension = \"png\";var comm_websocket_adapter = function(comm) {\n",
       "    // Create a \"websocket\"-like object which calls the given IPython comm\n",
       "    // object with the appropriate methods. Currently this is a non binary\n",
       "    // socket, so there is still some room for performance tuning.\n",
       "    var ws = {};\n",
       "\n",
       "    ws.close = function() {\n",
       "        comm.close()\n",
       "    };\n",
       "    ws.send = function(m) {\n",
       "        //console.log('sending', m);\n",
       "        comm.send(m);\n",
       "    };\n",
       "    // Register the callback with on_msg.\n",
       "    comm.on_msg(function(msg) {\n",
       "        //console.log('receiving', msg['content']['data'], msg);\n",
       "        // Pass the mpl event to the overriden (by mpl) onmessage function.\n",
       "        ws.onmessage(msg['content']['data'])\n",
       "    });\n",
       "    return ws;\n",
       "}\n",
       "\n",
       "mpl.mpl_figure_comm = function(comm, msg) {\n",
       "    // This is the function which gets called when the mpl process\n",
       "    // starts-up an IPython Comm through the \"matplotlib\" channel.\n",
       "\n",
       "    var id = msg.content.data.id;\n",
       "    // Get hold of the div created by the display call when the Comm\n",
       "    // socket was opened in Python.\n",
       "    var element = $(\"#\" + id);\n",
       "    var ws_proxy = comm_websocket_adapter(comm)\n",
       "\n",
       "    function ondownload(figure, format) {\n",
       "        window.open(figure.imageObj.src);\n",
       "    }\n",
       "\n",
       "    var fig = new mpl.figure(id, ws_proxy,\n",
       "                           ondownload,\n",
       "                           element.get(0));\n",
       "\n",
       "    // Call onopen now - mpl needs it, as it is assuming we've passed it a real\n",
       "    // web socket which is closed, not our websocket->open comm proxy.\n",
       "    ws_proxy.onopen();\n",
       "\n",
       "    fig.parent_element = element.get(0);\n",
       "    fig.cell_info = mpl.find_output_cell(\"<div id='\" + id + \"'></div>\");\n",
       "    if (!fig.cell_info) {\n",
       "        console.error(\"Failed to find cell for figure\", id, fig);\n",
       "        return;\n",
       "    }\n",
       "\n",
       "    var output_index = fig.cell_info[2]\n",
       "    var cell = fig.cell_info[0];\n",
       "\n",
       "};\n",
       "\n",
       "mpl.figure.prototype.handle_close = function(fig, msg) {\n",
       "    var width = fig.canvas.width/mpl.ratio\n",
       "    fig.root.unbind('remove')\n",
       "\n",
       "    // Update the output cell to use the data from the current canvas.\n",
       "    fig.push_to_output();\n",
       "    var dataURL = fig.canvas.toDataURL();\n",
       "    // Re-enable the keyboard manager in IPython - without this line, in FF,\n",
       "    // the notebook keyboard shortcuts fail.\n",
       "    IPython.keyboard_manager.enable()\n",
       "    $(fig.parent_element).html('<img src=\"' + dataURL + '\" width=\"' + width + '\">');\n",
       "    fig.close_ws(fig, msg);\n",
       "}\n",
       "\n",
       "mpl.figure.prototype.close_ws = function(fig, msg){\n",
       "    fig.send_message('closing', msg);\n",
       "    // fig.ws.close()\n",
       "}\n",
       "\n",
       "mpl.figure.prototype.push_to_output = function(remove_interactive) {\n",
       "    // Turn the data on the canvas into data in the output cell.\n",
       "    var width = this.canvas.width/mpl.ratio\n",
       "    var dataURL = this.canvas.toDataURL();\n",
       "    this.cell_info[1]['text/html'] = '<img src=\"' + dataURL + '\" width=\"' + width + '\">';\n",
       "}\n",
       "\n",
       "mpl.figure.prototype.updated_canvas_event = function() {\n",
       "    // Tell IPython that the notebook contents must change.\n",
       "    IPython.notebook.set_dirty(true);\n",
       "    this.send_message(\"ack\", {});\n",
       "    var fig = this;\n",
       "    // Wait a second, then push the new image to the DOM so\n",
       "    // that it is saved nicely (might be nice to debounce this).\n",
       "    setTimeout(function () { fig.push_to_output() }, 1000);\n",
       "}\n",
       "\n",
       "mpl.figure.prototype._init_toolbar = function() {\n",
       "    var fig = this;\n",
       "\n",
       "    var nav_element = $('<div/>')\n",
       "    nav_element.attr('style', 'width: 100%');\n",
       "    this.root.append(nav_element);\n",
       "\n",
       "    // Define a callback function for later on.\n",
       "    function toolbar_event(event) {\n",
       "        return fig.toolbar_button_onclick(event['data']);\n",
       "    }\n",
       "    function toolbar_mouse_event(event) {\n",
       "        return fig.toolbar_button_onmouseover(event['data']);\n",
       "    }\n",
       "\n",
       "    for(var toolbar_ind in mpl.toolbar_items){\n",
       "        var name = mpl.toolbar_items[toolbar_ind][0];\n",
       "        var tooltip = mpl.toolbar_items[toolbar_ind][1];\n",
       "        var image = mpl.toolbar_items[toolbar_ind][2];\n",
       "        var method_name = mpl.toolbar_items[toolbar_ind][3];\n",
       "\n",
       "        if (!name) { continue; };\n",
       "\n",
       "        var button = $('<button class=\"btn btn-default\" href=\"#\" title=\"' + name + '\"><i class=\"fa ' + image + ' fa-lg\"></i></button>');\n",
       "        button.click(method_name, toolbar_event);\n",
       "        button.mouseover(tooltip, toolbar_mouse_event);\n",
       "        nav_element.append(button);\n",
       "    }\n",
       "\n",
       "    // Add the status bar.\n",
       "    var status_bar = $('<span class=\"mpl-message\" style=\"text-align:right; float: right;\"/>');\n",
       "    nav_element.append(status_bar);\n",
       "    this.message = status_bar[0];\n",
       "\n",
       "    // Add the close button to the window.\n",
       "    var buttongrp = $('<div class=\"btn-group inline pull-right\"></div>');\n",
       "    var button = $('<button class=\"btn btn-mini btn-primary\" href=\"#\" title=\"Stop Interaction\"><i class=\"fa fa-power-off icon-remove icon-large\"></i></button>');\n",
       "    button.click(function (evt) { fig.handle_close(fig, {}); } );\n",
       "    button.mouseover('Stop Interaction', toolbar_mouse_event);\n",
       "    buttongrp.append(button);\n",
       "    var titlebar = this.root.find($('.ui-dialog-titlebar'));\n",
       "    titlebar.prepend(buttongrp);\n",
       "}\n",
       "\n",
       "mpl.figure.prototype._root_extra_style = function(el){\n",
       "    var fig = this\n",
       "    el.on(\"remove\", function(){\n",
       "\tfig.close_ws(fig, {});\n",
       "    });\n",
       "}\n",
       "\n",
       "mpl.figure.prototype._canvas_extra_style = function(el){\n",
       "    // this is important to make the div 'focusable\n",
       "    el.attr('tabindex', 0)\n",
       "    // reach out to IPython and tell the keyboard manager to turn it's self\n",
       "    // off when our div gets focus\n",
       "\n",
       "    // location in version 3\n",
       "    if (IPython.notebook.keyboard_manager) {\n",
       "        IPython.notebook.keyboard_manager.register_events(el);\n",
       "    }\n",
       "    else {\n",
       "        // location in version 2\n",
       "        IPython.keyboard_manager.register_events(el);\n",
       "    }\n",
       "\n",
       "}\n",
       "\n",
       "mpl.figure.prototype._key_event_extra = function(event, name) {\n",
       "    var manager = IPython.notebook.keyboard_manager;\n",
       "    if (!manager)\n",
       "        manager = IPython.keyboard_manager;\n",
       "\n",
       "    // Check for shift+enter\n",
       "    if (event.shiftKey && event.which == 13) {\n",
       "        this.canvas_div.blur();\n",
       "        // select the cell after this one\n",
       "        var index = IPython.notebook.find_cell_index(this.cell_info[0]);\n",
       "        IPython.notebook.select(index + 1);\n",
       "    }\n",
       "}\n",
       "\n",
       "mpl.figure.prototype.handle_save = function(fig, msg) {\n",
       "    fig.ondownload(fig, null);\n",
       "}\n",
       "\n",
       "\n",
       "mpl.find_output_cell = function(html_output) {\n",
       "    // Return the cell and output element which can be found *uniquely* in the notebook.\n",
       "    // Note - this is a bit hacky, but it is done because the \"notebook_saving.Notebook\"\n",
       "    // IPython event is triggered only after the cells have been serialised, which for\n",
       "    // our purposes (turning an active figure into a static one), is too late.\n",
       "    var cells = IPython.notebook.get_cells();\n",
       "    var ncells = cells.length;\n",
       "    for (var i=0; i<ncells; i++) {\n",
       "        var cell = cells[i];\n",
       "        if (cell.cell_type === 'code'){\n",
       "            for (var j=0; j<cell.output_area.outputs.length; j++) {\n",
       "                var data = cell.output_area.outputs[j];\n",
       "                if (data.data) {\n",
       "                    // IPython >= 3 moved mimebundle to data attribute of output\n",
       "                    data = data.data;\n",
       "                }\n",
       "                if (data['text/html'] == html_output) {\n",
       "                    return [cell, data, j];\n",
       "                }\n",
       "            }\n",
       "        }\n",
       "    }\n",
       "}\n",
       "\n",
       "// Register the function which deals with the matplotlib target/channel.\n",
       "// The kernel may be null if the page has been refreshed.\n",
       "if (IPython.notebook.kernel != null) {\n",
       "    IPython.notebook.kernel.comm_manager.register_target('matplotlib', mpl.mpl_figure_comm);\n",
       "}\n"
      ],
      "text/plain": [
       "<IPython.core.display.Javascript object>"
      ]
     },
     "metadata": {},
     "output_type": "display_data"
    },
    {
     "data": {
      "text/html": [
       "<img src=\"data:image/png;base64,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\" width=\"432\">"
      ],
      "text/plain": [
       "<IPython.core.display.HTML object>"
      ]
     },
     "metadata": {},
     "output_type": "display_data"
    }
   ],
   "source": [
    "%matplotlib notebook\n",
    "from mpl_toolkits.mplot3d import Axes3D\n",
    "import matplotlib.pyplot as plt\n",
    "import numpy as np\n",
    "\n",
    "fig = plt.figure()\n",
    "ax = fig.gca(projection='3d')\n",
    "\n",
    "# Make data.\n",
    "X, Y = np.meshgrid(x, y)\n",
    "\n",
    "# Plot the surface.\n",
    "surf = ax.plot_surface(X, Y, z(X, Y), cmap='jet',\n",
    "                       linewidth=0, antialiased=False)\n",
    "\n",
    "# Customize the z axis.\n",
    "ax.set_zlim(-1.01, 1.01)\n",
    "\n",
    "plt.xlabel('X')\n",
    "plt.ylabel('Y')\n",
    "\n",
    "# Add a color bar which maps values to colors.\n",
    "fig.colorbar(surf, shrink=0.5, aspect=5)\n",
    "\n",
    "plt.show()"
   ]
  },
  {
   "cell_type": "code",
   "execution_count": 14,
   "metadata": {},
   "outputs": [
    {
     "name": "stdout",
     "output_type": "stream",
     "text": [
      "Integral = 1.69344009672\n",
      "Error = 2.64282450514e-13\n"
     ]
    }
   ],
   "source": [
    "I, err = nquad(z, [[-3, 3],[-3, 3]])\n",
    "print \"Integral =\", I\n",
    "print \"Error =\", err"
   ]
  },
  {
   "cell_type": "markdown",
   "metadata": {},
   "source": [
    "Can we do something more complicated?\n",
    "\n",
    "Consider (from the scipy example):\n",
    "\n",
    "$$\\Large{I_N = \\int_{0}^{+\\infty}\\int_{1}^{+\\infty} \\frac{e^{-xt}}{t^{N}} \\mathrm{d}t\\mathrm{d}x}$$"
   ]
  },
  {
   "cell_type": "code",
   "execution_count": 17,
   "metadata": {},
   "outputs": [
    {
     "name": "stdout",
     "output_type": "stream",
     "text": [
      "Integral = 0.1\n",
      "Error = 1.24793370632e-09\n"
     ]
    }
   ],
   "source": [
    "N = 10.0\n",
    "def f2(t, x):\n",
    "    return np.exp(-x*t)/(t**N)\n",
    "\n",
    "I, err = nquad(f2, [[1, np.inf],[0, np.inf]])\n",
    "print \"Integral =\", I\n",
    "print \"Error =\", err"
   ]
  },
  {
   "cell_type": "code",
   "execution_count": 16,
   "metadata": {},
   "outputs": [
    {
     "data": {
      "text/plain": [
       "'1.12.1'"
      ]
     },
     "execution_count": 16,
     "metadata": {},
     "output_type": "execute_result"
    }
   ],
   "source": [
    "np.__version__"
   ]
  },
  {
   "cell_type": "code",
   "execution_count": null,
   "metadata": {
    "collapsed": true
   },
   "outputs": [],
   "source": []
  },
  {
   "cell_type": "code",
   "execution_count": null,
   "metadata": {
    "collapsed": true
   },
   "outputs": [],
   "source": []
  }
 ],
 "metadata": {
  "kernelspec": {
   "display_name": "Python 2",
   "language": "python",
   "name": "python2"
  },
  "language_info": {
   "codemirror_mode": {
    "name": "ipython",
    "version": 2
   },
   "file_extension": ".py",
   "mimetype": "text/x-python",
   "name": "python",
   "nbconvert_exporter": "python",
   "pygments_lexer": "ipython2",
   "version": "2.7.13"
  }
 },
 "nbformat": 4,
 "nbformat_minor": 2
}
